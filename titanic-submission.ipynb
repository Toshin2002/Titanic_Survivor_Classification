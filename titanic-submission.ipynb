{
 "cells": [
  {
   "cell_type": "code",
   "execution_count": 1,
   "id": "59eae861",
   "metadata": {
    "execution": {
     "iopub.execute_input": "2023-03-13T18:36:58.256670Z",
     "iopub.status.busy": "2023-03-13T18:36:58.256052Z",
     "iopub.status.idle": "2023-03-13T18:36:58.269865Z",
     "shell.execute_reply": "2023-03-13T18:36:58.269065Z"
    },
    "papermill": {
     "duration": 0.030659,
     "end_time": "2023-03-13T18:36:58.272304",
     "exception": false,
     "start_time": "2023-03-13T18:36:58.241645",
     "status": "completed"
    },
    "tags": []
   },
   "outputs": [],
   "source": [
    "#importing libraries\n",
    "import pandas as pd\n",
    "import numpy as np\n",
    "import matplotlib.pyplot as plt\n"
   ]
  },
  {
   "cell_type": "code",
   "execution_count": 2,
   "id": "264d655d",
   "metadata": {
    "execution": {
     "iopub.execute_input": "2023-03-13T18:36:58.296267Z",
     "iopub.status.busy": "2023-03-13T18:36:58.295871Z",
     "iopub.status.idle": "2023-03-13T18:36:58.326872Z",
     "shell.execute_reply": "2023-03-13T18:36:58.325926Z"
    },
    "papermill": {
     "duration": 0.045952,
     "end_time": "2023-03-13T18:36:58.329443",
     "exception": false,
     "start_time": "2023-03-13T18:36:58.283491",
     "status": "completed"
    },
    "tags": []
   },
   "outputs": [],
   "source": [
    "df_train=pd.read_csv(\"/kaggle/input/titanic/train.csv\")\n",
    "df_test=pd.read_csv(\"/kaggle/input/titanic/test.csv\")"
   ]
  },
  {
   "cell_type": "code",
   "execution_count": 3,
   "id": "236e8636",
   "metadata": {
    "execution": {
     "iopub.execute_input": "2023-03-13T18:36:58.353610Z",
     "iopub.status.busy": "2023-03-13T18:36:58.353136Z",
     "iopub.status.idle": "2023-03-13T18:36:58.400619Z",
     "shell.execute_reply": "2023-03-13T18:36:58.399339Z"
    },
    "papermill": {
     "duration": 0.06293,
     "end_time": "2023-03-13T18:36:58.403729",
     "exception": false,
     "start_time": "2023-03-13T18:36:58.340799",
     "status": "completed"
    },
    "tags": []
   },
   "outputs": [
    {
     "name": "stdout",
     "output_type": "stream",
     "text": [
      "(891, 12)\n",
      "       PassengerId    Survived      Pclass         Age       SibSp  \\\n",
      "count   891.000000  891.000000  891.000000  714.000000  891.000000   \n",
      "mean    446.000000    0.383838    2.308642   29.699118    0.523008   \n",
      "std     257.353842    0.486592    0.836071   14.526497    1.102743   \n",
      "min       1.000000    0.000000    1.000000    0.420000    0.000000   \n",
      "25%     223.500000    0.000000    2.000000   20.125000    0.000000   \n",
      "50%     446.000000    0.000000    3.000000   28.000000    0.000000   \n",
      "75%     668.500000    1.000000    3.000000   38.000000    1.000000   \n",
      "max     891.000000    1.000000    3.000000   80.000000    8.000000   \n",
      "\n",
      "            Parch        Fare  \n",
      "count  891.000000  891.000000  \n",
      "mean     0.381594   32.204208  \n",
      "std      0.806057   49.693429  \n",
      "min      0.000000    0.000000  \n",
      "25%      0.000000    7.910400  \n",
      "50%      0.000000   14.454200  \n",
      "75%      0.000000   31.000000  \n",
      "max      6.000000  512.329200  \n",
      "   PassengerId  Survived  Pclass  \\\n",
      "0            1         0       3   \n",
      "1            2         1       1   \n",
      "2            3         1       3   \n",
      "3            4         1       1   \n",
      "4            5         0       3   \n",
      "\n",
      "                                                Name     Sex   Age  SibSp  \\\n",
      "0                            Braund, Mr. Owen Harris    male  22.0      1   \n",
      "1  Cumings, Mrs. John Bradley (Florence Briggs Th...  female  38.0      1   \n",
      "2                             Heikkinen, Miss. Laina  female  26.0      0   \n",
      "3       Futrelle, Mrs. Jacques Heath (Lily May Peel)  female  35.0      1   \n",
      "4                           Allen, Mr. William Henry    male  35.0      0   \n",
      "\n",
      "   Parch            Ticket     Fare Cabin Embarked  \n",
      "0      0         A/5 21171   7.2500   NaN        S  \n",
      "1      0          PC 17599  71.2833   C85        C  \n",
      "2      0  STON/O2. 3101282   7.9250   NaN        S  \n",
      "3      0            113803  53.1000  C123        S  \n",
      "4      0            373450   8.0500   NaN        S  \n"
     ]
    }
   ],
   "source": [
    "print(df_train.shape)\n",
    "print(df_train.describe())\n",
    "print(df_train.head())"
   ]
  },
  {
   "cell_type": "code",
   "execution_count": 4,
   "id": "631be4b7",
   "metadata": {
    "execution": {
     "iopub.execute_input": "2023-03-13T18:36:58.429924Z",
     "iopub.status.busy": "2023-03-13T18:36:58.428879Z",
     "iopub.status.idle": "2023-03-13T18:36:58.457838Z",
     "shell.execute_reply": "2023-03-13T18:36:58.456655Z"
    },
    "papermill": {
     "duration": 0.046097,
     "end_time": "2023-03-13T18:36:58.461047",
     "exception": false,
     "start_time": "2023-03-13T18:36:58.414950",
     "status": "completed"
    },
    "tags": []
   },
   "outputs": [
    {
     "name": "stdout",
     "output_type": "stream",
     "text": [
      "(418, 11)\n",
      "       PassengerId      Pclass         Age       SibSp       Parch        Fare\n",
      "count   418.000000  418.000000  332.000000  418.000000  418.000000  417.000000\n",
      "mean   1100.500000    2.265550   30.272590    0.447368    0.392344   35.627188\n",
      "std     120.810458    0.841838   14.181209    0.896760    0.981429   55.907576\n",
      "min     892.000000    1.000000    0.170000    0.000000    0.000000    0.000000\n",
      "25%     996.250000    1.000000   21.000000    0.000000    0.000000    7.895800\n",
      "50%    1100.500000    3.000000   27.000000    0.000000    0.000000   14.454200\n",
      "75%    1204.750000    3.000000   39.000000    1.000000    0.000000   31.500000\n",
      "max    1309.000000    3.000000   76.000000    8.000000    9.000000  512.329200\n",
      "   PassengerId  Pclass                                          Name     Sex  \\\n",
      "0          892       3                              Kelly, Mr. James    male   \n",
      "1          893       3              Wilkes, Mrs. James (Ellen Needs)  female   \n",
      "2          894       2                     Myles, Mr. Thomas Francis    male   \n",
      "3          895       3                              Wirz, Mr. Albert    male   \n",
      "4          896       3  Hirvonen, Mrs. Alexander (Helga E Lindqvist)  female   \n",
      "\n",
      "    Age  SibSp  Parch   Ticket     Fare Cabin Embarked  \n",
      "0  34.5      0      0   330911   7.8292   NaN        Q  \n",
      "1  47.0      1      0   363272   7.0000   NaN        S  \n",
      "2  62.0      0      0   240276   9.6875   NaN        Q  \n",
      "3  27.0      0      0   315154   8.6625   NaN        S  \n",
      "4  22.0      1      1  3101298  12.2875   NaN        S  \n"
     ]
    }
   ],
   "source": [
    "print(df_test.shape)\n",
    "print(df_test.describe())\n",
    "print(df_test.head())"
   ]
  },
  {
   "cell_type": "code",
   "execution_count": 5,
   "id": "6b989206",
   "metadata": {
    "execution": {
     "iopub.execute_input": "2023-03-13T18:36:58.485816Z",
     "iopub.status.busy": "2023-03-13T18:36:58.485008Z",
     "iopub.status.idle": "2023-03-13T18:36:58.495380Z",
     "shell.execute_reply": "2023-03-13T18:36:58.494404Z"
    },
    "papermill": {
     "duration": 0.025274,
     "end_time": "2023-03-13T18:36:58.497524",
     "exception": false,
     "start_time": "2023-03-13T18:36:58.472250",
     "status": "completed"
    },
    "tags": []
   },
   "outputs": [
    {
     "name": "stdout",
     "output_type": "stream",
     "text": [
      "PassengerId      0\n",
      "Survived         0\n",
      "Pclass           0\n",
      "Name             0\n",
      "Sex              0\n",
      "Age            177\n",
      "SibSp            0\n",
      "Parch            0\n",
      "Ticket           0\n",
      "Fare             0\n",
      "Cabin          687\n",
      "Embarked         2\n",
      "dtype: int64\n",
      "--------------------------\n",
      "PassengerId      0\n",
      "Pclass           0\n",
      "Name             0\n",
      "Sex              0\n",
      "Age             86\n",
      "SibSp            0\n",
      "Parch            0\n",
      "Ticket           0\n",
      "Fare             1\n",
      "Cabin          327\n",
      "Embarked         0\n",
      "dtype: int64\n"
     ]
    }
   ],
   "source": [
    "print(df_train.isnull().sum())\n",
    "print('--------------------------')\n",
    "print(df_test.isnull().sum())"
   ]
  },
  {
   "cell_type": "code",
   "execution_count": 6,
   "id": "41b69676",
   "metadata": {
    "execution": {
     "iopub.execute_input": "2023-03-13T18:36:58.522285Z",
     "iopub.status.busy": "2023-03-13T18:36:58.521383Z",
     "iopub.status.idle": "2023-03-13T18:36:58.550973Z",
     "shell.execute_reply": "2023-03-13T18:36:58.549782Z"
    },
    "papermill": {
     "duration": 0.045189,
     "end_time": "2023-03-13T18:36:58.554038",
     "exception": false,
     "start_time": "2023-03-13T18:36:58.508849",
     "status": "completed"
    },
    "tags": []
   },
   "outputs": [
    {
     "name": "stdout",
     "output_type": "stream",
     "text": [
      "Value counts of some variables train set\n",
      "S    644\n",
      "C    168\n",
      "Q     77\n",
      "Name: Embarked, dtype: int64\n",
      "---------------------------------------\n",
      "male      577\n",
      "female    314\n",
      "Name: Sex, dtype: int64\n",
      "---------------------------------------\n",
      "24.00    30\n",
      "22.00    27\n",
      "18.00    26\n",
      "19.00    25\n",
      "28.00    25\n",
      "         ..\n",
      "36.50     1\n",
      "55.50     1\n",
      "0.92      1\n",
      "23.50     1\n",
      "74.00     1\n",
      "Name: Age, Length: 88, dtype: int64\n",
      "---------------------------------------\n",
      "3    491\n",
      "1    216\n",
      "2    184\n",
      "Name: Pclass, dtype: int64\n",
      "---------------------------------------\n",
      "0    608\n",
      "1    209\n",
      "2     28\n",
      "4     18\n",
      "3     16\n",
      "8      7\n",
      "5      5\n",
      "Name: SibSp, dtype: int64\n",
      "---------------------------------------\n",
      "0    678\n",
      "1    118\n",
      "2     80\n",
      "5      5\n",
      "3      5\n",
      "4      4\n",
      "6      1\n",
      "Name: Parch, dtype: int64\n",
      "---------------------------------------\n",
      "B96 B98        4\n",
      "G6             4\n",
      "C23 C25 C27    4\n",
      "C22 C26        3\n",
      "F33            3\n",
      "              ..\n",
      "E34            1\n",
      "C7             1\n",
      "C54            1\n",
      "E36            1\n",
      "C148           1\n",
      "Name: Cabin, Length: 147, dtype: int64\n",
      "---------------------------------------\n",
      "---------------------------------------\n",
      "Value counts of some variables test set\n",
      "S    270\n",
      "C    102\n",
      "Q     46\n",
      "Name: Embarked, dtype: int64\n",
      "---------------------------------------\n",
      "male      266\n",
      "female    152\n",
      "Name: Sex, dtype: int64\n",
      "---------------------------------------\n",
      "24.00    30\n",
      "22.00    27\n",
      "18.00    26\n",
      "19.00    25\n",
      "28.00    25\n",
      "         ..\n",
      "36.50     1\n",
      "55.50     1\n",
      "0.92      1\n",
      "23.50     1\n",
      "74.00     1\n",
      "Name: Age, Length: 88, dtype: int64\n",
      "---------------------------------------\n",
      "3    218\n",
      "1    107\n",
      "2     93\n",
      "Name: Pclass, dtype: int64\n",
      "---------------------------------------\n",
      "0    283\n",
      "1    110\n",
      "2     14\n",
      "3      4\n",
      "4      4\n",
      "8      2\n",
      "5      1\n",
      "Name: SibSp, dtype: int64\n",
      "---------------------------------------\n",
      "0    324\n",
      "1     52\n",
      "2     33\n",
      "3      3\n",
      "4      2\n",
      "9      2\n",
      "6      1\n",
      "5      1\n",
      "Name: Parch, dtype: int64\n",
      "---------------------------------------\n",
      "B57 B59 B63 B66    3\n",
      "B45                2\n",
      "C89                2\n",
      "C55 C57            2\n",
      "A34                2\n",
      "                  ..\n",
      "E52                1\n",
      "D30                1\n",
      "E31                1\n",
      "C62 C64            1\n",
      "C105               1\n",
      "Name: Cabin, Length: 76, dtype: int64\n",
      "---------------------------------------\n"
     ]
    }
   ],
   "source": [
    "print(\"Value counts of some variables train set\")\n",
    "print(df_train['Embarked'].value_counts())\n",
    "print('---------------------------------------')\n",
    "print(df_train['Sex'].value_counts())\n",
    "print('---------------------------------------')\n",
    "print(df_train['Age'].value_counts())\n",
    "print('---------------------------------------')\n",
    "print(df_train['Pclass'].value_counts())\n",
    "print('---------------------------------------')\n",
    "print(df_train['SibSp'].value_counts())\n",
    "print('---------------------------------------')\n",
    "print(df_train['Parch'].value_counts())\n",
    "print('---------------------------------------')\n",
    "print(df_train['Cabin'].value_counts())\n",
    "print('---------------------------------------')\n",
    "print('---------------------------------------')\n",
    "print(\"Value counts of some variables test set\")\n",
    "print(df_test['Embarked'].value_counts())\n",
    "print('---------------------------------------')\n",
    "print(df_test['Sex'].value_counts())\n",
    "print('---------------------------------------')\n",
    "print(df_train['Age'].value_counts())\n",
    "print('---------------------------------------')\n",
    "print(df_test['Pclass'].value_counts())\n",
    "print('---------------------------------------')\n",
    "print(df_test['SibSp'].value_counts())\n",
    "print('---------------------------------------')\n",
    "print(df_test['Parch'].value_counts())\n",
    "print('---------------------------------------')\n",
    "print(df_test['Cabin'].value_counts())\n",
    "print('---------------------------------------')\n"
   ]
  },
  {
   "cell_type": "code",
   "execution_count": 7,
   "id": "90858458",
   "metadata": {
    "execution": {
     "iopub.execute_input": "2023-03-13T18:36:58.578686Z",
     "iopub.status.busy": "2023-03-13T18:36:58.578329Z",
     "iopub.status.idle": "2023-03-13T18:36:58.585200Z",
     "shell.execute_reply": "2023-03-13T18:36:58.584062Z"
    },
    "papermill": {
     "duration": 0.02188,
     "end_time": "2023-03-13T18:36:58.587568",
     "exception": false,
     "start_time": "2023-03-13T18:36:58.565688",
     "status": "completed"
    },
    "tags": []
   },
   "outputs": [],
   "source": [
    "#Replacing null values in the age column with the mean age \n",
    "df_train['Age']=df_train['Age'].fillna(30)\n",
    "# df_train['Age'].isnull().sum()\n",
    "df_test['Age']=df_test['Age'].fillna(30)\n",
    "# df_test['Age'].isnull().sum()"
   ]
  },
  {
   "cell_type": "code",
   "execution_count": 8,
   "id": "762f678c",
   "metadata": {
    "execution": {
     "iopub.execute_input": "2023-03-13T18:36:58.613885Z",
     "iopub.status.busy": "2023-03-13T18:36:58.612814Z",
     "iopub.status.idle": "2023-03-13T18:36:58.620598Z",
     "shell.execute_reply": "2023-03-13T18:36:58.619428Z"
    },
    "papermill": {
     "duration": 0.024183,
     "end_time": "2023-03-13T18:36:58.623672",
     "exception": false,
     "start_time": "2023-03-13T18:36:58.599489",
     "status": "completed"
    },
    "tags": []
   },
   "outputs": [
    {
     "name": "stdout",
     "output_type": "stream",
     "text": [
      "XXXXXXXXXXXXX    ALL NULL VALUES HAVE BEEN TAKEN CARE OF    XXXXXXXXXXXXX\n"
     ]
    }
   ],
   "source": [
    "#Replacing null values in the other columns\n",
    "df_train['Embarked']=df_train['Embarked'].fillna('S')  \n",
    "df_test['Fare']=df_test['Fare'].fillna(35.6)  \n",
    "print('XXXXXXXXXXXXX    ALL NULL VALUES HAVE BEEN TAKEN CARE OF    XXXXXXXXXXXXX')"
   ]
  },
  {
   "cell_type": "markdown",
   "id": "274e88f8",
   "metadata": {
    "papermill": {
     "duration": 0.012352,
     "end_time": "2023-03-13T18:36:58.648869",
     "exception": false,
     "start_time": "2023-03-13T18:36:58.636517",
     "status": "completed"
    },
    "tags": []
   },
   "source": [
    "**ENCODING THE CATEGORICAL VARIABLES**"
   ]
  },
  {
   "cell_type": "code",
   "execution_count": 9,
   "id": "3f4548e4",
   "metadata": {
    "execution": {
     "iopub.execute_input": "2023-03-13T18:36:58.673971Z",
     "iopub.status.busy": "2023-03-13T18:36:58.673565Z",
     "iopub.status.idle": "2023-03-13T18:36:58.683597Z",
     "shell.execute_reply": "2023-03-13T18:36:58.682197Z"
    },
    "papermill": {
     "duration": 0.025332,
     "end_time": "2023-03-13T18:36:58.685807",
     "exception": false,
     "start_time": "2023-03-13T18:36:58.660475",
     "status": "completed"
    },
    "tags": []
   },
   "outputs": [
    {
     "name": "stdout",
     "output_type": "stream",
     "text": [
      "male      577\n",
      "female    314\n",
      "Name: Sex, dtype: int64\n",
      "   female  male\n",
      "0       0     1\n",
      "1       1     0\n",
      "2       1     0\n",
      "3       1     0\n",
      "4       0     1\n"
     ]
    }
   ],
   "source": [
    "#firstly the training set\n",
    "print(df_train['Sex'].value_counts())\n",
    "dummy = pd.get_dummies(df_train['Sex'])\n",
    "print(dummy.head())"
   ]
  },
  {
   "cell_type": "code",
   "execution_count": 10,
   "id": "acead6d8",
   "metadata": {
    "execution": {
     "iopub.execute_input": "2023-03-13T18:36:58.710235Z",
     "iopub.status.busy": "2023-03-13T18:36:58.709866Z",
     "iopub.status.idle": "2023-03-13T18:36:58.734828Z",
     "shell.execute_reply": "2023-03-13T18:36:58.733475Z"
    },
    "papermill": {
     "duration": 0.039969,
     "end_time": "2023-03-13T18:36:58.737204",
     "exception": false,
     "start_time": "2023-03-13T18:36:58.697235",
     "status": "completed"
    },
    "tags": []
   },
   "outputs": [
    {
     "data": {
      "text/html": [
       "<div>\n",
       "<style scoped>\n",
       "    .dataframe tbody tr th:only-of-type {\n",
       "        vertical-align: middle;\n",
       "    }\n",
       "\n",
       "    .dataframe tbody tr th {\n",
       "        vertical-align: top;\n",
       "    }\n",
       "\n",
       "    .dataframe thead th {\n",
       "        text-align: right;\n",
       "    }\n",
       "</style>\n",
       "<table border=\"1\" class=\"dataframe\">\n",
       "  <thead>\n",
       "    <tr style=\"text-align: right;\">\n",
       "      <th></th>\n",
       "      <th>PassengerId</th>\n",
       "      <th>Survived</th>\n",
       "      <th>Pclass</th>\n",
       "      <th>Name</th>\n",
       "      <th>Age</th>\n",
       "      <th>SibSp</th>\n",
       "      <th>Parch</th>\n",
       "      <th>Ticket</th>\n",
       "      <th>Fare</th>\n",
       "      <th>Cabin</th>\n",
       "      <th>Embarked</th>\n",
       "      <th>Sex</th>\n",
       "    </tr>\n",
       "  </thead>\n",
       "  <tbody>\n",
       "    <tr>\n",
       "      <th>0</th>\n",
       "      <td>1</td>\n",
       "      <td>0</td>\n",
       "      <td>3</td>\n",
       "      <td>Braund, Mr. Owen Harris</td>\n",
       "      <td>22.0</td>\n",
       "      <td>1</td>\n",
       "      <td>0</td>\n",
       "      <td>A/5 21171</td>\n",
       "      <td>7.2500</td>\n",
       "      <td>NaN</td>\n",
       "      <td>S</td>\n",
       "      <td>0</td>\n",
       "    </tr>\n",
       "    <tr>\n",
       "      <th>1</th>\n",
       "      <td>2</td>\n",
       "      <td>1</td>\n",
       "      <td>1</td>\n",
       "      <td>Cumings, Mrs. John Bradley (Florence Briggs Th...</td>\n",
       "      <td>38.0</td>\n",
       "      <td>1</td>\n",
       "      <td>0</td>\n",
       "      <td>PC 17599</td>\n",
       "      <td>71.2833</td>\n",
       "      <td>C85</td>\n",
       "      <td>C</td>\n",
       "      <td>1</td>\n",
       "    </tr>\n",
       "    <tr>\n",
       "      <th>2</th>\n",
       "      <td>3</td>\n",
       "      <td>1</td>\n",
       "      <td>3</td>\n",
       "      <td>Heikkinen, Miss. Laina</td>\n",
       "      <td>26.0</td>\n",
       "      <td>0</td>\n",
       "      <td>0</td>\n",
       "      <td>STON/O2. 3101282</td>\n",
       "      <td>7.9250</td>\n",
       "      <td>NaN</td>\n",
       "      <td>S</td>\n",
       "      <td>1</td>\n",
       "    </tr>\n",
       "    <tr>\n",
       "      <th>3</th>\n",
       "      <td>4</td>\n",
       "      <td>1</td>\n",
       "      <td>1</td>\n",
       "      <td>Futrelle, Mrs. Jacques Heath (Lily May Peel)</td>\n",
       "      <td>35.0</td>\n",
       "      <td>1</td>\n",
       "      <td>0</td>\n",
       "      <td>113803</td>\n",
       "      <td>53.1000</td>\n",
       "      <td>C123</td>\n",
       "      <td>S</td>\n",
       "      <td>1</td>\n",
       "    </tr>\n",
       "    <tr>\n",
       "      <th>4</th>\n",
       "      <td>5</td>\n",
       "      <td>0</td>\n",
       "      <td>3</td>\n",
       "      <td>Allen, Mr. William Henry</td>\n",
       "      <td>35.0</td>\n",
       "      <td>0</td>\n",
       "      <td>0</td>\n",
       "      <td>373450</td>\n",
       "      <td>8.0500</td>\n",
       "      <td>NaN</td>\n",
       "      <td>S</td>\n",
       "      <td>0</td>\n",
       "    </tr>\n",
       "  </tbody>\n",
       "</table>\n",
       "</div>"
      ],
      "text/plain": [
       "   PassengerId  Survived  Pclass  \\\n",
       "0            1         0       3   \n",
       "1            2         1       1   \n",
       "2            3         1       3   \n",
       "3            4         1       1   \n",
       "4            5         0       3   \n",
       "\n",
       "                                                Name   Age  SibSp  Parch  \\\n",
       "0                            Braund, Mr. Owen Harris  22.0      1      0   \n",
       "1  Cumings, Mrs. John Bradley (Florence Briggs Th...  38.0      1      0   \n",
       "2                             Heikkinen, Miss. Laina  26.0      0      0   \n",
       "3       Futrelle, Mrs. Jacques Heath (Lily May Peel)  35.0      1      0   \n",
       "4                           Allen, Mr. William Henry  35.0      0      0   \n",
       "\n",
       "             Ticket     Fare Cabin Embarked  Sex  \n",
       "0         A/5 21171   7.2500   NaN        S    0  \n",
       "1          PC 17599  71.2833   C85        C    1  \n",
       "2  STON/O2. 3101282   7.9250   NaN        S    1  \n",
       "3            113803  53.1000  C123        S    1  \n",
       "4            373450   8.0500   NaN        S    0  "
      ]
     },
     "execution_count": 10,
     "metadata": {},
     "output_type": "execute_result"
    }
   ],
   "source": [
    "df_train1 = pd.concat((df_train,dummy),axis=1)\n",
    "df_train1=df_train1.drop(['Sex','male'],axis=1)\n",
    "df_train1=df_train1.rename(columns={'female':'Sex'})\n",
    "df_train1.head()"
   ]
  },
  {
   "cell_type": "code",
   "execution_count": 11,
   "id": "95c34038",
   "metadata": {
    "execution": {
     "iopub.execute_input": "2023-03-13T18:36:58.762769Z",
     "iopub.status.busy": "2023-03-13T18:36:58.762016Z",
     "iopub.status.idle": "2023-03-13T18:36:58.772823Z",
     "shell.execute_reply": "2023-03-13T18:36:58.771529Z"
    },
    "papermill": {
     "duration": 0.027082,
     "end_time": "2023-03-13T18:36:58.776051",
     "exception": false,
     "start_time": "2023-03-13T18:36:58.748969",
     "status": "completed"
    },
    "tags": []
   },
   "outputs": [
    {
     "name": "stdout",
     "output_type": "stream",
     "text": [
      "S    646\n",
      "C    168\n",
      "Q     77\n",
      "Name: Embarked, dtype: int64\n",
      "   C  Q  S\n",
      "0  0  0  1\n",
      "1  1  0  0\n",
      "2  0  0  1\n",
      "3  0  0  1\n",
      "4  0  0  1\n"
     ]
    }
   ],
   "source": [
    "print(df_train1['Embarked'].value_counts())\n",
    "dummy_embarked=pd.get_dummies(df_train1['Embarked'])\n",
    "print(dummy_embarked.head())"
   ]
  },
  {
   "cell_type": "code",
   "execution_count": 12,
   "id": "00403d04",
   "metadata": {
    "execution": {
     "iopub.execute_input": "2023-03-13T18:36:58.804038Z",
     "iopub.status.busy": "2023-03-13T18:36:58.803588Z",
     "iopub.status.idle": "2023-03-13T18:36:58.826546Z",
     "shell.execute_reply": "2023-03-13T18:36:58.825482Z"
    },
    "papermill": {
     "duration": 0.038775,
     "end_time": "2023-03-13T18:36:58.828643",
     "exception": false,
     "start_time": "2023-03-13T18:36:58.789868",
     "status": "completed"
    },
    "tags": []
   },
   "outputs": [
    {
     "data": {
      "text/html": [
       "<div>\n",
       "<style scoped>\n",
       "    .dataframe tbody tr th:only-of-type {\n",
       "        vertical-align: middle;\n",
       "    }\n",
       "\n",
       "    .dataframe tbody tr th {\n",
       "        vertical-align: top;\n",
       "    }\n",
       "\n",
       "    .dataframe thead th {\n",
       "        text-align: right;\n",
       "    }\n",
       "</style>\n",
       "<table border=\"1\" class=\"dataframe\">\n",
       "  <thead>\n",
       "    <tr style=\"text-align: right;\">\n",
       "      <th></th>\n",
       "      <th>PassengerId</th>\n",
       "      <th>Survived</th>\n",
       "      <th>Pclass</th>\n",
       "      <th>Name</th>\n",
       "      <th>Age</th>\n",
       "      <th>SibSp</th>\n",
       "      <th>Parch</th>\n",
       "      <th>Ticket</th>\n",
       "      <th>Fare</th>\n",
       "      <th>Cabin</th>\n",
       "      <th>Sex</th>\n",
       "      <th>Embarked_C</th>\n",
       "      <th>Embarked_S</th>\n",
       "    </tr>\n",
       "  </thead>\n",
       "  <tbody>\n",
       "    <tr>\n",
       "      <th>0</th>\n",
       "      <td>1</td>\n",
       "      <td>0</td>\n",
       "      <td>3</td>\n",
       "      <td>Braund, Mr. Owen Harris</td>\n",
       "      <td>22.0</td>\n",
       "      <td>1</td>\n",
       "      <td>0</td>\n",
       "      <td>A/5 21171</td>\n",
       "      <td>7.2500</td>\n",
       "      <td>NaN</td>\n",
       "      <td>0</td>\n",
       "      <td>0</td>\n",
       "      <td>1</td>\n",
       "    </tr>\n",
       "    <tr>\n",
       "      <th>1</th>\n",
       "      <td>2</td>\n",
       "      <td>1</td>\n",
       "      <td>1</td>\n",
       "      <td>Cumings, Mrs. John Bradley (Florence Briggs Th...</td>\n",
       "      <td>38.0</td>\n",
       "      <td>1</td>\n",
       "      <td>0</td>\n",
       "      <td>PC 17599</td>\n",
       "      <td>71.2833</td>\n",
       "      <td>C85</td>\n",
       "      <td>1</td>\n",
       "      <td>1</td>\n",
       "      <td>0</td>\n",
       "    </tr>\n",
       "    <tr>\n",
       "      <th>2</th>\n",
       "      <td>3</td>\n",
       "      <td>1</td>\n",
       "      <td>3</td>\n",
       "      <td>Heikkinen, Miss. Laina</td>\n",
       "      <td>26.0</td>\n",
       "      <td>0</td>\n",
       "      <td>0</td>\n",
       "      <td>STON/O2. 3101282</td>\n",
       "      <td>7.9250</td>\n",
       "      <td>NaN</td>\n",
       "      <td>1</td>\n",
       "      <td>0</td>\n",
       "      <td>1</td>\n",
       "    </tr>\n",
       "    <tr>\n",
       "      <th>3</th>\n",
       "      <td>4</td>\n",
       "      <td>1</td>\n",
       "      <td>1</td>\n",
       "      <td>Futrelle, Mrs. Jacques Heath (Lily May Peel)</td>\n",
       "      <td>35.0</td>\n",
       "      <td>1</td>\n",
       "      <td>0</td>\n",
       "      <td>113803</td>\n",
       "      <td>53.1000</td>\n",
       "      <td>C123</td>\n",
       "      <td>1</td>\n",
       "      <td>0</td>\n",
       "      <td>1</td>\n",
       "    </tr>\n",
       "    <tr>\n",
       "      <th>4</th>\n",
       "      <td>5</td>\n",
       "      <td>0</td>\n",
       "      <td>3</td>\n",
       "      <td>Allen, Mr. William Henry</td>\n",
       "      <td>35.0</td>\n",
       "      <td>0</td>\n",
       "      <td>0</td>\n",
       "      <td>373450</td>\n",
       "      <td>8.0500</td>\n",
       "      <td>NaN</td>\n",
       "      <td>0</td>\n",
       "      <td>0</td>\n",
       "      <td>1</td>\n",
       "    </tr>\n",
       "  </tbody>\n",
       "</table>\n",
       "</div>"
      ],
      "text/plain": [
       "   PassengerId  Survived  Pclass  \\\n",
       "0            1         0       3   \n",
       "1            2         1       1   \n",
       "2            3         1       3   \n",
       "3            4         1       1   \n",
       "4            5         0       3   \n",
       "\n",
       "                                                Name   Age  SibSp  Parch  \\\n",
       "0                            Braund, Mr. Owen Harris  22.0      1      0   \n",
       "1  Cumings, Mrs. John Bradley (Florence Briggs Th...  38.0      1      0   \n",
       "2                             Heikkinen, Miss. Laina  26.0      0      0   \n",
       "3       Futrelle, Mrs. Jacques Heath (Lily May Peel)  35.0      1      0   \n",
       "4                           Allen, Mr. William Henry  35.0      0      0   \n",
       "\n",
       "             Ticket     Fare Cabin  Sex  Embarked_C  Embarked_S  \n",
       "0         A/5 21171   7.2500   NaN    0           0           1  \n",
       "1          PC 17599  71.2833   C85    1           1           0  \n",
       "2  STON/O2. 3101282   7.9250   NaN    1           0           1  \n",
       "3            113803  53.1000  C123    1           0           1  \n",
       "4            373450   8.0500   NaN    0           0           1  "
      ]
     },
     "execution_count": 12,
     "metadata": {},
     "output_type": "execute_result"
    }
   ],
   "source": [
    "df_train1 = pd.concat((df_train1,dummy_embarked),axis=1)\n",
    "df_train1=df_train1.drop(['Embarked','Q'],axis=1)\n",
    "df_train1=df_train1.rename(columns={'C':'Embarked_C','S':'Embarked_S'})\n",
    "df_train1.head()"
   ]
  },
  {
   "cell_type": "code",
   "execution_count": 13,
   "id": "f4db15ef",
   "metadata": {
    "execution": {
     "iopub.execute_input": "2023-03-13T18:36:58.854833Z",
     "iopub.status.busy": "2023-03-13T18:36:58.854402Z",
     "iopub.status.idle": "2023-03-13T18:36:58.863428Z",
     "shell.execute_reply": "2023-03-13T18:36:58.862003Z"
    },
    "papermill": {
     "duration": 0.025132,
     "end_time": "2023-03-13T18:36:58.865870",
     "exception": false,
     "start_time": "2023-03-13T18:36:58.840738",
     "status": "completed"
    },
    "tags": []
   },
   "outputs": [
    {
     "name": "stdout",
     "output_type": "stream",
     "text": [
      "   female  male\n",
      "0       0     1\n",
      "1       1     0\n",
      "2       0     1\n",
      "3       0     1\n",
      "4       1     0\n"
     ]
    }
   ],
   "source": [
    "#Now the test set \n",
    "dummy1 = pd.get_dummies(df_test['Sex'])\n",
    "print(dummy1.head())"
   ]
  },
  {
   "cell_type": "code",
   "execution_count": 14,
   "id": "45d77721",
   "metadata": {
    "execution": {
     "iopub.execute_input": "2023-03-13T18:36:58.892250Z",
     "iopub.status.busy": "2023-03-13T18:36:58.891817Z",
     "iopub.status.idle": "2023-03-13T18:36:58.914118Z",
     "shell.execute_reply": "2023-03-13T18:36:58.913094Z"
    },
    "papermill": {
     "duration": 0.038296,
     "end_time": "2023-03-13T18:36:58.916357",
     "exception": false,
     "start_time": "2023-03-13T18:36:58.878061",
     "status": "completed"
    },
    "tags": []
   },
   "outputs": [
    {
     "data": {
      "text/html": [
       "<div>\n",
       "<style scoped>\n",
       "    .dataframe tbody tr th:only-of-type {\n",
       "        vertical-align: middle;\n",
       "    }\n",
       "\n",
       "    .dataframe tbody tr th {\n",
       "        vertical-align: top;\n",
       "    }\n",
       "\n",
       "    .dataframe thead th {\n",
       "        text-align: right;\n",
       "    }\n",
       "</style>\n",
       "<table border=\"1\" class=\"dataframe\">\n",
       "  <thead>\n",
       "    <tr style=\"text-align: right;\">\n",
       "      <th></th>\n",
       "      <th>PassengerId</th>\n",
       "      <th>Pclass</th>\n",
       "      <th>Name</th>\n",
       "      <th>Age</th>\n",
       "      <th>SibSp</th>\n",
       "      <th>Parch</th>\n",
       "      <th>Ticket</th>\n",
       "      <th>Fare</th>\n",
       "      <th>Cabin</th>\n",
       "      <th>Embarked</th>\n",
       "      <th>Sex</th>\n",
       "    </tr>\n",
       "  </thead>\n",
       "  <tbody>\n",
       "    <tr>\n",
       "      <th>0</th>\n",
       "      <td>892</td>\n",
       "      <td>3</td>\n",
       "      <td>Kelly, Mr. James</td>\n",
       "      <td>34.5</td>\n",
       "      <td>0</td>\n",
       "      <td>0</td>\n",
       "      <td>330911</td>\n",
       "      <td>7.8292</td>\n",
       "      <td>NaN</td>\n",
       "      <td>Q</td>\n",
       "      <td>0</td>\n",
       "    </tr>\n",
       "    <tr>\n",
       "      <th>1</th>\n",
       "      <td>893</td>\n",
       "      <td>3</td>\n",
       "      <td>Wilkes, Mrs. James (Ellen Needs)</td>\n",
       "      <td>47.0</td>\n",
       "      <td>1</td>\n",
       "      <td>0</td>\n",
       "      <td>363272</td>\n",
       "      <td>7.0000</td>\n",
       "      <td>NaN</td>\n",
       "      <td>S</td>\n",
       "      <td>1</td>\n",
       "    </tr>\n",
       "    <tr>\n",
       "      <th>2</th>\n",
       "      <td>894</td>\n",
       "      <td>2</td>\n",
       "      <td>Myles, Mr. Thomas Francis</td>\n",
       "      <td>62.0</td>\n",
       "      <td>0</td>\n",
       "      <td>0</td>\n",
       "      <td>240276</td>\n",
       "      <td>9.6875</td>\n",
       "      <td>NaN</td>\n",
       "      <td>Q</td>\n",
       "      <td>0</td>\n",
       "    </tr>\n",
       "    <tr>\n",
       "      <th>3</th>\n",
       "      <td>895</td>\n",
       "      <td>3</td>\n",
       "      <td>Wirz, Mr. Albert</td>\n",
       "      <td>27.0</td>\n",
       "      <td>0</td>\n",
       "      <td>0</td>\n",
       "      <td>315154</td>\n",
       "      <td>8.6625</td>\n",
       "      <td>NaN</td>\n",
       "      <td>S</td>\n",
       "      <td>0</td>\n",
       "    </tr>\n",
       "    <tr>\n",
       "      <th>4</th>\n",
       "      <td>896</td>\n",
       "      <td>3</td>\n",
       "      <td>Hirvonen, Mrs. Alexander (Helga E Lindqvist)</td>\n",
       "      <td>22.0</td>\n",
       "      <td>1</td>\n",
       "      <td>1</td>\n",
       "      <td>3101298</td>\n",
       "      <td>12.2875</td>\n",
       "      <td>NaN</td>\n",
       "      <td>S</td>\n",
       "      <td>1</td>\n",
       "    </tr>\n",
       "  </tbody>\n",
       "</table>\n",
       "</div>"
      ],
      "text/plain": [
       "   PassengerId  Pclass                                          Name   Age  \\\n",
       "0          892       3                              Kelly, Mr. James  34.5   \n",
       "1          893       3              Wilkes, Mrs. James (Ellen Needs)  47.0   \n",
       "2          894       2                     Myles, Mr. Thomas Francis  62.0   \n",
       "3          895       3                              Wirz, Mr. Albert  27.0   \n",
       "4          896       3  Hirvonen, Mrs. Alexander (Helga E Lindqvist)  22.0   \n",
       "\n",
       "   SibSp  Parch   Ticket     Fare Cabin Embarked  Sex  \n",
       "0      0      0   330911   7.8292   NaN        Q    0  \n",
       "1      1      0   363272   7.0000   NaN        S    1  \n",
       "2      0      0   240276   9.6875   NaN        Q    0  \n",
       "3      0      0   315154   8.6625   NaN        S    0  \n",
       "4      1      1  3101298  12.2875   NaN        S    1  "
      ]
     },
     "execution_count": 14,
     "metadata": {},
     "output_type": "execute_result"
    }
   ],
   "source": [
    "df_test1 = pd.concat((df_test,dummy1),axis=1)\n",
    "df_test1=df_test1.drop(['Sex','male'],axis=1)\n",
    "df_test1=df_test1.rename(columns={'female':'Sex'})\n",
    "df_test1.head()"
   ]
  },
  {
   "cell_type": "code",
   "execution_count": 15,
   "id": "34fd4658",
   "metadata": {
    "execution": {
     "iopub.execute_input": "2023-03-13T18:36:58.943280Z",
     "iopub.status.busy": "2023-03-13T18:36:58.942618Z",
     "iopub.status.idle": "2023-03-13T18:36:58.952441Z",
     "shell.execute_reply": "2023-03-13T18:36:58.951338Z"
    },
    "papermill": {
     "duration": 0.026768,
     "end_time": "2023-03-13T18:36:58.955506",
     "exception": false,
     "start_time": "2023-03-13T18:36:58.928738",
     "status": "completed"
    },
    "tags": []
   },
   "outputs": [
    {
     "name": "stdout",
     "output_type": "stream",
     "text": [
      "S    270\n",
      "C    102\n",
      "Q     46\n",
      "Name: Embarked, dtype: int64\n",
      "   C  Q  S\n",
      "0  0  1  0\n",
      "1  0  0  1\n",
      "2  0  1  0\n",
      "3  0  0  1\n",
      "4  0  0  1\n"
     ]
    }
   ],
   "source": [
    "print(df_test1['Embarked'].value_counts())\n",
    "dummy_embarked_test=pd.get_dummies(df_test1['Embarked'])\n",
    "print(dummy_embarked_test.head())"
   ]
  },
  {
   "cell_type": "code",
   "execution_count": 16,
   "id": "63ee2f39",
   "metadata": {
    "execution": {
     "iopub.execute_input": "2023-03-13T18:36:58.982765Z",
     "iopub.status.busy": "2023-03-13T18:36:58.982326Z",
     "iopub.status.idle": "2023-03-13T18:36:59.005593Z",
     "shell.execute_reply": "2023-03-13T18:36:59.004417Z"
    },
    "papermill": {
     "duration": 0.039783,
     "end_time": "2023-03-13T18:36:59.008021",
     "exception": false,
     "start_time": "2023-03-13T18:36:58.968238",
     "status": "completed"
    },
    "tags": []
   },
   "outputs": [
    {
     "data": {
      "text/html": [
       "<div>\n",
       "<style scoped>\n",
       "    .dataframe tbody tr th:only-of-type {\n",
       "        vertical-align: middle;\n",
       "    }\n",
       "\n",
       "    .dataframe tbody tr th {\n",
       "        vertical-align: top;\n",
       "    }\n",
       "\n",
       "    .dataframe thead th {\n",
       "        text-align: right;\n",
       "    }\n",
       "</style>\n",
       "<table border=\"1\" class=\"dataframe\">\n",
       "  <thead>\n",
       "    <tr style=\"text-align: right;\">\n",
       "      <th></th>\n",
       "      <th>PassengerId</th>\n",
       "      <th>Pclass</th>\n",
       "      <th>Name</th>\n",
       "      <th>Age</th>\n",
       "      <th>SibSp</th>\n",
       "      <th>Parch</th>\n",
       "      <th>Ticket</th>\n",
       "      <th>Fare</th>\n",
       "      <th>Cabin</th>\n",
       "      <th>Sex</th>\n",
       "      <th>Embarked_C</th>\n",
       "      <th>Embarked_S</th>\n",
       "    </tr>\n",
       "  </thead>\n",
       "  <tbody>\n",
       "    <tr>\n",
       "      <th>0</th>\n",
       "      <td>892</td>\n",
       "      <td>3</td>\n",
       "      <td>Kelly, Mr. James</td>\n",
       "      <td>34.5</td>\n",
       "      <td>0</td>\n",
       "      <td>0</td>\n",
       "      <td>330911</td>\n",
       "      <td>7.8292</td>\n",
       "      <td>NaN</td>\n",
       "      <td>0</td>\n",
       "      <td>0</td>\n",
       "      <td>0</td>\n",
       "    </tr>\n",
       "    <tr>\n",
       "      <th>1</th>\n",
       "      <td>893</td>\n",
       "      <td>3</td>\n",
       "      <td>Wilkes, Mrs. James (Ellen Needs)</td>\n",
       "      <td>47.0</td>\n",
       "      <td>1</td>\n",
       "      <td>0</td>\n",
       "      <td>363272</td>\n",
       "      <td>7.0000</td>\n",
       "      <td>NaN</td>\n",
       "      <td>1</td>\n",
       "      <td>0</td>\n",
       "      <td>1</td>\n",
       "    </tr>\n",
       "    <tr>\n",
       "      <th>2</th>\n",
       "      <td>894</td>\n",
       "      <td>2</td>\n",
       "      <td>Myles, Mr. Thomas Francis</td>\n",
       "      <td>62.0</td>\n",
       "      <td>0</td>\n",
       "      <td>0</td>\n",
       "      <td>240276</td>\n",
       "      <td>9.6875</td>\n",
       "      <td>NaN</td>\n",
       "      <td>0</td>\n",
       "      <td>0</td>\n",
       "      <td>0</td>\n",
       "    </tr>\n",
       "    <tr>\n",
       "      <th>3</th>\n",
       "      <td>895</td>\n",
       "      <td>3</td>\n",
       "      <td>Wirz, Mr. Albert</td>\n",
       "      <td>27.0</td>\n",
       "      <td>0</td>\n",
       "      <td>0</td>\n",
       "      <td>315154</td>\n",
       "      <td>8.6625</td>\n",
       "      <td>NaN</td>\n",
       "      <td>0</td>\n",
       "      <td>0</td>\n",
       "      <td>1</td>\n",
       "    </tr>\n",
       "    <tr>\n",
       "      <th>4</th>\n",
       "      <td>896</td>\n",
       "      <td>3</td>\n",
       "      <td>Hirvonen, Mrs. Alexander (Helga E Lindqvist)</td>\n",
       "      <td>22.0</td>\n",
       "      <td>1</td>\n",
       "      <td>1</td>\n",
       "      <td>3101298</td>\n",
       "      <td>12.2875</td>\n",
       "      <td>NaN</td>\n",
       "      <td>1</td>\n",
       "      <td>0</td>\n",
       "      <td>1</td>\n",
       "    </tr>\n",
       "  </tbody>\n",
       "</table>\n",
       "</div>"
      ],
      "text/plain": [
       "   PassengerId  Pclass                                          Name   Age  \\\n",
       "0          892       3                              Kelly, Mr. James  34.5   \n",
       "1          893       3              Wilkes, Mrs. James (Ellen Needs)  47.0   \n",
       "2          894       2                     Myles, Mr. Thomas Francis  62.0   \n",
       "3          895       3                              Wirz, Mr. Albert  27.0   \n",
       "4          896       3  Hirvonen, Mrs. Alexander (Helga E Lindqvist)  22.0   \n",
       "\n",
       "   SibSp  Parch   Ticket     Fare Cabin  Sex  Embarked_C  Embarked_S  \n",
       "0      0      0   330911   7.8292   NaN    0           0           0  \n",
       "1      1      0   363272   7.0000   NaN    1           0           1  \n",
       "2      0      0   240276   9.6875   NaN    0           0           0  \n",
       "3      0      0   315154   8.6625   NaN    0           0           1  \n",
       "4      1      1  3101298  12.2875   NaN    1           0           1  "
      ]
     },
     "execution_count": 16,
     "metadata": {},
     "output_type": "execute_result"
    }
   ],
   "source": [
    "df_test1 = pd.concat((df_test1,dummy_embarked_test),axis=1)\n",
    "df_test1=df_test1.drop(['Embarked','Q'],axis=1)\n",
    "df_test1=df_test1.rename(columns={'C':'Embarked_C','S':'Embarked_S'})\n",
    "df_test1.head()"
   ]
  },
  {
   "cell_type": "code",
   "execution_count": 17,
   "id": "b7850210",
   "metadata": {
    "execution": {
     "iopub.execute_input": "2023-03-13T18:36:59.036099Z",
     "iopub.status.busy": "2023-03-13T18:36:59.034933Z",
     "iopub.status.idle": "2023-03-13T18:36:59.045626Z",
     "shell.execute_reply": "2023-03-13T18:36:59.043647Z"
    },
    "papermill": {
     "duration": 0.027772,
     "end_time": "2023-03-13T18:36:59.048711",
     "exception": false,
     "start_time": "2023-03-13T18:36:59.020939",
     "status": "completed"
    },
    "tags": []
   },
   "outputs": [
    {
     "name": "stdout",
     "output_type": "stream",
     "text": [
      "[0 1 1 1 0]\n",
      "[[ 3.      0.     22.      1.      0.      7.25    0.      1.    ]\n",
      " [ 1.      1.     38.      1.      0.     71.2833  1.      0.    ]\n",
      " [ 3.      1.     26.      0.      0.      7.925   0.      1.    ]\n",
      " [ 1.      1.     35.      1.      0.     53.1     0.      1.    ]\n",
      " [ 3.      0.     35.      0.      0.      8.05    0.      1.    ]]\n"
     ]
    }
   ],
   "source": [
    "# print(df_train.columns)\n",
    "y=df_train1.iloc[:,1].values\n",
    "X=df_train1.loc[:,['Pclass', 'Sex', 'Age', 'SibSp',\n",
    "       'Parch', 'Fare', 'Embarked_C', 'Embarked_S']].values\n",
    "print(y[0:5])\n",
    "print(X[0:5])\n",
    "\n"
   ]
  },
  {
   "cell_type": "code",
   "execution_count": 18,
   "id": "12e2503f",
   "metadata": {
    "execution": {
     "iopub.execute_input": "2023-03-13T18:36:59.077644Z",
     "iopub.status.busy": "2023-03-13T18:36:59.076986Z",
     "iopub.status.idle": "2023-03-13T18:37:00.225494Z",
     "shell.execute_reply": "2023-03-13T18:37:00.223823Z"
    },
    "papermill": {
     "duration": 1.166794,
     "end_time": "2023-03-13T18:37:00.228885",
     "exception": false,
     "start_time": "2023-03-13T18:36:59.062091",
     "status": "completed"
    },
    "tags": []
   },
   "outputs": [
    {
     "name": "stdout",
     "output_type": "stream",
     "text": [
      "668\n",
      "668\n"
     ]
    }
   ],
   "source": [
    "from sklearn.model_selection import train_test_split\n",
    "X_train, X_test, y_train, y_test = train_test_split(X, y, test_size = 0.25, random_state = 0)\n",
    "\n",
    "print(len(X_train))\n",
    "print(len(y_train))"
   ]
  },
  {
   "cell_type": "markdown",
   "id": "2a3b2c1f",
   "metadata": {
    "papermill": {
     "duration": 0.012813,
     "end_time": "2023-03-13T18:37:00.255074",
     "exception": false,
     "start_time": "2023-03-13T18:37:00.242261",
     "status": "completed"
    },
    "tags": []
   },
   "source": [
    "# Logical Regression Classifier "
   ]
  },
  {
   "cell_type": "code",
   "execution_count": 19,
   "id": "6db78e71",
   "metadata": {
    "execution": {
     "iopub.execute_input": "2023-03-13T18:37:00.283362Z",
     "iopub.status.busy": "2023-03-13T18:37:00.282729Z",
     "iopub.status.idle": "2023-03-13T18:37:00.291327Z",
     "shell.execute_reply": "2023-03-13T18:37:00.290020Z"
    },
    "papermill": {
     "duration": 0.025365,
     "end_time": "2023-03-13T18:37:00.293614",
     "exception": false,
     "start_time": "2023-03-13T18:37:00.268249",
     "status": "completed"
    },
    "tags": []
   },
   "outputs": [
    {
     "name": "stdout",
     "output_type": "stream",
     "text": [
      "[[ 0.83012938 -0.72705166 -0.14821366 ... -0.48380773 -0.45841567\n",
      "   0.59809997]\n",
      " [ 0.83012938  1.37541808 -0.99739413 ... -0.48323058 -0.45841567\n",
      "   0.59809997]\n",
      " [ 0.83012938 -0.72705166  0.00618279 ... -0.32165051 -0.45841567\n",
      "   0.59809997]\n",
      " ...\n",
      " [ 0.83012938 -0.72705166  0.00618279 ... -0.48701956 -0.45841567\n",
      "  -1.67196129]\n",
      " [ 0.83012938  1.37541808  0.46937214 ... -0.29595582 -0.45841567\n",
      "   0.59809997]\n",
      " [-0.36497068 -0.72705166  2.32212954 ...  0.13097136 -0.45841567\n",
      "   0.59809997]]\n",
      "[[ 0.83012938 -0.72705166  0.00618279 ... -0.35409895  2.1814263\n",
      "  -1.67196129]\n",
      " [ 0.83012938 -0.72705166  0.00618279 ... -0.49064251 -0.45841567\n",
      "   0.59809997]\n",
      " [ 0.83012938 -0.72705166 -1.76937638 ... -0.06420947 -0.45841567\n",
      "  -1.67196129]\n",
      " ...\n",
      " [ 0.83012938 -0.72705166 -0.84299768 ... -0.48619536 -0.45841567\n",
      "   0.59809997]\n",
      " [-1.56007074  1.37541808 -0.68860123 ...  4.54601107  2.1814263\n",
      "  -1.67196129]\n",
      " [ 0.83012938  1.37541808 -2.00097105 ... -0.30979142 -0.45841567\n",
      "   0.59809997]]\n"
     ]
    }
   ],
   "source": [
    "from sklearn.preprocessing import StandardScaler\n",
    "sc = StandardScaler()\n",
    "X_train = sc.fit_transform(X_train)\n",
    "X_test = sc.transform(X_test)\n",
    "print(X_train)\n",
    "print(X_test)"
   ]
  },
  {
   "cell_type": "code",
   "execution_count": 20,
   "id": "ec43ed25",
   "metadata": {
    "execution": {
     "iopub.execute_input": "2023-03-13T18:37:00.321659Z",
     "iopub.status.busy": "2023-03-13T18:37:00.321282Z",
     "iopub.status.idle": "2023-03-13T18:37:00.419133Z",
     "shell.execute_reply": "2023-03-13T18:37:00.417819Z"
    },
    "papermill": {
     "duration": 0.11499,
     "end_time": "2023-03-13T18:37:00.421732",
     "exception": false,
     "start_time": "2023-03-13T18:37:00.306742",
     "status": "completed"
    },
    "tags": []
   },
   "outputs": [
    {
     "data": {
      "text/plain": [
       "LogisticRegression(random_state=0)"
      ]
     },
     "execution_count": 20,
     "metadata": {},
     "output_type": "execute_result"
    }
   ],
   "source": [
    "from sklearn.linear_model import LogisticRegression\n",
    "LR_classifier = LogisticRegression(random_state = 0)\n",
    "LR_classifier.fit(X_train, y_train)"
   ]
  },
  {
   "cell_type": "code",
   "execution_count": 21,
   "id": "dc521eab",
   "metadata": {
    "execution": {
     "iopub.execute_input": "2023-03-13T18:37:00.450241Z",
     "iopub.status.busy": "2023-03-13T18:37:00.449330Z",
     "iopub.status.idle": "2023-03-13T18:37:00.463224Z",
     "shell.execute_reply": "2023-03-13T18:37:00.461835Z"
    },
    "papermill": {
     "duration": 0.031368,
     "end_time": "2023-03-13T18:37:00.466316",
     "exception": false,
     "start_time": "2023-03-13T18:37:00.434948",
     "status": "completed"
    },
    "tags": []
   },
   "outputs": [
    {
     "name": "stdout",
     "output_type": "stream",
     "text": [
      "[[116  23]\n",
      " [ 23  61]]\n"
     ]
    },
    {
     "data": {
      "text/plain": [
       "0.7937219730941704"
      ]
     },
     "execution_count": 21,
     "metadata": {},
     "output_type": "execute_result"
    }
   ],
   "source": [
    "from sklearn.metrics import confusion_matrix, accuracy_score\n",
    "\n",
    "y_pred = LR_classifier.predict(X_test)\n",
    "cm = confusion_matrix(y_test, y_pred)\n",
    "print(cm)\n",
    "accuracy_score(y_test, y_pred)"
   ]
  },
  {
   "cell_type": "markdown",
   "id": "354292c2",
   "metadata": {
    "papermill": {
     "duration": 0.013065,
     "end_time": "2023-03-13T18:37:00.493163",
     "exception": false,
     "start_time": "2023-03-13T18:37:00.480098",
     "status": "completed"
    },
    "tags": []
   },
   "source": [
    "**Visualization of Train and Test Set**"
   ]
  },
  {
   "cell_type": "code",
   "execution_count": 22,
   "id": "8ca49e88",
   "metadata": {
    "execution": {
     "iopub.execute_input": "2023-03-13T18:37:00.521905Z",
     "iopub.status.busy": "2023-03-13T18:37:00.521301Z",
     "iopub.status.idle": "2023-03-13T18:37:00.976423Z",
     "shell.execute_reply": "2023-03-13T18:37:00.975621Z"
    },
    "papermill": {
     "duration": 0.471938,
     "end_time": "2023-03-13T18:37:00.978488",
     "exception": false,
     "start_time": "2023-03-13T18:37:00.506550",
     "status": "completed"
    },
    "tags": []
   },
   "outputs": [
    {
     "data": {
      "image/png": "[encoded data removed]",
      "text/plain": [
       "<Figure size 432x288 with 2 Axes>"
      ]
     },
     "metadata": {
      "needs_background": "light"
     },
     "output_type": "display_data"
    },
    {
     "data": {
      "image/png": "[encoded data removed]",
      "text/plain": [
       "<Figure size 432x288 with 1 Axes>"
      ]
     },
     "metadata": {
      "needs_background": "light"
     },
     "output_type": "display_data"
    }
   ],
   "source": [
    "from sklearn.metrics import confusion_matrix, roc_curve, auc\n",
    "# Compute the ROC curve and AUC\n",
    "fpr, tpr, thresholds = roc_curve(y_test, LR_classifier.predict_proba(X_test)[:,1])\n",
    "roc_auc = auc(fpr, tpr)\n",
    "\n",
    "# Plot the confusion matrix\n",
    "plt.imshow(cm, cmap=plt.cm.Blues)\n",
    "plt.colorbar()\n",
    "plt.xticks([0, 1])\n",
    "plt.yticks([0, 1])\n",
    "plt.xlabel(\"Predicted label\")\n",
    "plt.ylabel(\"True label\")\n",
    "for i in range(2):\n",
    "    for j in range(2):\n",
    "        plt.text(j, i, cm[i, j], ha=\"center\", va=\"center\", color=\"white\")\n",
    "plt.show()\n",
    "\n",
    "# Plot the ROC curve\n",
    "plt.plot(fpr, tpr, label=\"ROC curve (area = {:.2f})\".format(roc_auc))\n",
    "plt.plot([0, 1], [0, 1], linestyle=\"--\")\n",
    "plt.xlim([0, 1])\n",
    "plt.ylim([0, 1])\n",
    "plt.xlabel(\"False Positive Rate\")\n",
    "plt.ylabel(\"True Positive Rate\")\n",
    "plt.title(\"Receiver operating characteristic\")\n",
    "plt.legend(loc=\"lower right\")\n",
    "plt.show()"
   ]
  },
  {
   "cell_type": "markdown",
   "id": "9ab83aed",
   "metadata": {
    "papermill": {
     "duration": 0.013516,
     "end_time": "2023-03-13T18:37:01.005986",
     "exception": false,
     "start_time": "2023-03-13T18:37:00.992470",
     "status": "completed"
    },
    "tags": []
   },
   "source": [
    "# Naive Bayes "
   ]
  },
  {
   "cell_type": "code",
   "execution_count": 23,
   "id": "c07b9d83",
   "metadata": {
    "execution": {
     "iopub.execute_input": "2023-03-13T18:37:01.036371Z",
     "iopub.status.busy": "2023-03-13T18:37:01.035288Z",
     "iopub.status.idle": "2023-03-13T18:37:01.045341Z",
     "shell.execute_reply": "2023-03-13T18:37:01.044531Z"
    },
    "papermill": {
     "duration": 0.027566,
     "end_time": "2023-03-13T18:37:01.047296",
     "exception": false,
     "start_time": "2023-03-13T18:37:01.019730",
     "status": "completed"
    },
    "tags": []
   },
   "outputs": [
    {
     "data": {
      "text/plain": [
       "GaussianNB()"
      ]
     },
     "execution_count": 23,
     "metadata": {},
     "output_type": "execute_result"
    }
   ],
   "source": [
    "from sklearn.naive_bayes import GaussianNB\n",
    "NB_classifier = GaussianNB()\n",
    "NB_classifier.fit(X_train, y_train)"
   ]
  },
  {
   "cell_type": "code",
   "execution_count": 24,
   "id": "71383987",
   "metadata": {
    "execution": {
     "iopub.execute_input": "2023-03-13T18:37:01.076999Z",
     "iopub.status.busy": "2023-03-13T18:37:01.076595Z",
     "iopub.status.idle": "2023-03-13T18:37:01.087234Z",
     "shell.execute_reply": "2023-03-13T18:37:01.085375Z"
    },
    "papermill": {
     "duration": 0.028216,
     "end_time": "2023-03-13T18:37:01.089587",
     "exception": false,
     "start_time": "2023-03-13T18:37:01.061371",
     "status": "completed"
    },
    "tags": []
   },
   "outputs": [
    {
     "name": "stdout",
     "output_type": "stream",
     "text": [
      "[[105  34]\n",
      " [ 18  66]]\n"
     ]
    },
    {
     "data": {
      "text/plain": [
       "0.7668161434977578"
      ]
     },
     "execution_count": 24,
     "metadata": {},
     "output_type": "execute_result"
    }
   ],
   "source": [
    "y_pred = NB_classifier.predict(X_test)\n",
    "cm = confusion_matrix(y_test, y_pred)\n",
    "print(cm)\n",
    "accuracy_score(y_test, y_pred)"
   ]
  },
  {
   "cell_type": "markdown",
   "id": "5be2fc05",
   "metadata": {
    "papermill": {
     "duration": 0.014207,
     "end_time": "2023-03-13T18:37:01.117948",
     "exception": false,
     "start_time": "2023-03-13T18:37:01.103741",
     "status": "completed"
    },
    "tags": []
   },
   "source": [
    "# K-NN"
   ]
  },
  {
   "cell_type": "code",
   "execution_count": 25,
   "id": "42971169",
   "metadata": {
    "execution": {
     "iopub.execute_input": "2023-03-13T18:37:01.147995Z",
     "iopub.status.busy": "2023-03-13T18:37:01.147565Z",
     "iopub.status.idle": "2023-03-13T18:37:01.211163Z",
     "shell.execute_reply": "2023-03-13T18:37:01.210019Z"
    },
    "papermill": {
     "duration": 0.081786,
     "end_time": "2023-03-13T18:37:01.213794",
     "exception": false,
     "start_time": "2023-03-13T18:37:01.132008",
     "status": "completed"
    },
    "tags": []
   },
   "outputs": [
    {
     "data": {
      "text/plain": [
       "KNeighborsClassifier()"
      ]
     },
     "execution_count": 25,
     "metadata": {},
     "output_type": "execute_result"
    }
   ],
   "source": [
    "from sklearn.neighbors import KNeighborsClassifier\n",
    "KN_classifier = KNeighborsClassifier(n_neighbors = 5, metric = 'minkowski', p = 2)\n",
    "KN_classifier.fit(X_train, y_train)"
   ]
  },
  {
   "cell_type": "code",
   "execution_count": 26,
   "id": "549ec3e6",
   "metadata": {
    "execution": {
     "iopub.execute_input": "2023-03-13T18:37:01.244159Z",
     "iopub.status.busy": "2023-03-13T18:37:01.243741Z",
     "iopub.status.idle": "2023-03-13T18:37:01.262469Z",
     "shell.execute_reply": "2023-03-13T18:37:01.261102Z"
    },
    "papermill": {
     "duration": 0.036799,
     "end_time": "2023-03-13T18:37:01.265072",
     "exception": false,
     "start_time": "2023-03-13T18:37:01.228273",
     "status": "completed"
    },
    "tags": []
   },
   "outputs": [
    {
     "name": "stdout",
     "output_type": "stream",
     "text": [
      "[[117  22]\n",
      " [ 23  61]]\n"
     ]
    },
    {
     "data": {
      "text/plain": [
       "0.7982062780269058"
      ]
     },
     "execution_count": 26,
     "metadata": {},
     "output_type": "execute_result"
    }
   ],
   "source": [
    "y_pred = KN_classifier.predict(X_test)\n",
    "cm = confusion_matrix(y_test, y_pred)\n",
    "print(cm)\n",
    "accuracy_score(y_test, y_pred)"
   ]
  },
  {
   "cell_type": "markdown",
   "id": "55f82551",
   "metadata": {
    "papermill": {
     "duration": 0.014647,
     "end_time": "2023-03-13T18:37:01.294149",
     "exception": false,
     "start_time": "2023-03-13T18:37:01.279502",
     "status": "completed"
    },
    "tags": []
   },
   "source": [
    "# Decision Tree Classifier"
   ]
  },
  {
   "cell_type": "code",
   "execution_count": 27,
   "id": "3be343c2",
   "metadata": {
    "execution": {
     "iopub.execute_input": "2023-03-13T18:37:01.325295Z",
     "iopub.status.busy": "2023-03-13T18:37:01.324189Z",
     "iopub.status.idle": "2023-03-13T18:37:01.363203Z",
     "shell.execute_reply": "2023-03-13T18:37:01.362244Z"
    },
    "papermill": {
     "duration": 0.056935,
     "end_time": "2023-03-13T18:37:01.365423",
     "exception": false,
     "start_time": "2023-03-13T18:37:01.308488",
     "status": "completed"
    },
    "tags": []
   },
   "outputs": [
    {
     "data": {
      "text/plain": [
       "DecisionTreeClassifier(criterion='entropy', random_state=0)"
      ]
     },
     "execution_count": 27,
     "metadata": {},
     "output_type": "execute_result"
    }
   ],
   "source": [
    "from sklearn.tree import DecisionTreeClassifier\n",
    "DT_classifier = DecisionTreeClassifier(criterion = 'entropy', random_state = 0)\n",
    "DT_classifier.fit(X_train, y_train)"
   ]
  },
  {
   "cell_type": "code",
   "execution_count": 28,
   "id": "a88dabcf",
   "metadata": {
    "execution": {
     "iopub.execute_input": "2023-03-13T18:37:01.397054Z",
     "iopub.status.busy": "2023-03-13T18:37:01.395829Z",
     "iopub.status.idle": "2023-03-13T18:37:01.406695Z",
     "shell.execute_reply": "2023-03-13T18:37:01.405511Z"
    },
    "papermill": {
     "duration": 0.029104,
     "end_time": "2023-03-13T18:37:01.409197",
     "exception": false,
     "start_time": "2023-03-13T18:37:01.380093",
     "status": "completed"
    },
    "tags": []
   },
   "outputs": [
    {
     "name": "stdout",
     "output_type": "stream",
     "text": [
      "[[116  23]\n",
      " [ 28  56]]\n"
     ]
    },
    {
     "data": {
      "text/plain": [
       "0.7713004484304933"
      ]
     },
     "execution_count": 28,
     "metadata": {},
     "output_type": "execute_result"
    }
   ],
   "source": [
    "y_pred = DT_classifier.predict(X_test)\n",
    "cm = confusion_matrix(y_test, y_pred)\n",
    "print(cm)\n",
    "accuracy_score(y_test, y_pred)"
   ]
  },
  {
   "cell_type": "markdown",
   "id": "aabec5db",
   "metadata": {
    "papermill": {
     "duration": 0.014232,
     "end_time": "2023-03-13T18:37:01.438214",
     "exception": false,
     "start_time": "2023-03-13T18:37:01.423982",
     "status": "completed"
    },
    "tags": []
   },
   "source": [
    "# Random Forest"
   ]
  },
  {
   "cell_type": "code",
   "execution_count": 29,
   "id": "962c0849",
   "metadata": {
    "execution": {
     "iopub.execute_input": "2023-03-13T18:37:01.469006Z",
     "iopub.status.busy": "2023-03-13T18:37:01.468547Z",
     "iopub.status.idle": "2023-03-13T18:37:01.561941Z",
     "shell.execute_reply": "2023-03-13T18:37:01.560775Z"
    },
    "papermill": {
     "duration": 0.111981,
     "end_time": "2023-03-13T18:37:01.564692",
     "exception": false,
     "start_time": "2023-03-13T18:37:01.452711",
     "status": "completed"
    },
    "tags": []
   },
   "outputs": [
    {
     "data": {
      "text/plain": [
       "RandomForestClassifier(criterion='entropy', n_estimators=10, random_state=0)"
      ]
     },
     "execution_count": 29,
     "metadata": {},
     "output_type": "execute_result"
    }
   ],
   "source": [
    "from sklearn.ensemble import RandomForestClassifier\n",
    "RF_classifier = RandomForestClassifier(n_estimators = 10, criterion = 'entropy', random_state = 0)\n",
    "RF_classifier.fit(X_train, y_train)"
   ]
  },
  {
   "cell_type": "code",
   "execution_count": 30,
   "id": "7fc884c3",
   "metadata": {
    "execution": {
     "iopub.execute_input": "2023-03-13T18:37:01.596816Z",
     "iopub.status.busy": "2023-03-13T18:37:01.595616Z",
     "iopub.status.idle": "2023-03-13T18:37:01.608301Z",
     "shell.execute_reply": "2023-03-13T18:37:01.606816Z"
    },
    "papermill": {
     "duration": 0.031092,
     "end_time": "2023-03-13T18:37:01.610789",
     "exception": false,
     "start_time": "2023-03-13T18:37:01.579697",
     "status": "completed"
    },
    "tags": []
   },
   "outputs": [
    {
     "name": "stdout",
     "output_type": "stream",
     "text": [
      "[[128  11]\n",
      " [ 27  57]]\n"
     ]
    },
    {
     "data": {
      "text/plain": [
       "0.8295964125560538"
      ]
     },
     "execution_count": 30,
     "metadata": {},
     "output_type": "execute_result"
    }
   ],
   "source": [
    "y_pred = RF_classifier.predict(X_test)\n",
    "from sklearn.metrics import confusion_matrix, accuracy_score\n",
    "cm = confusion_matrix(y_test, y_pred)\n",
    "print(cm)\n",
    "accuracy_score(y_test, y_pred)"
   ]
  },
  {
   "cell_type": "markdown",
   "id": "8caa265c",
   "metadata": {
    "papermill": {
     "duration": 0.014371,
     "end_time": "2023-03-13T18:37:01.640042",
     "exception": false,
     "start_time": "2023-03-13T18:37:01.625671",
     "status": "completed"
    },
    "tags": []
   },
   "source": [
    "# SVM"
   ]
  },
  {
   "cell_type": "code",
   "execution_count": 31,
   "id": "35b59a96",
   "metadata": {
    "execution": {
     "iopub.execute_input": "2023-03-13T18:37:01.671278Z",
     "iopub.status.busy": "2023-03-13T18:37:01.670421Z",
     "iopub.status.idle": "2023-03-13T18:37:01.692860Z",
     "shell.execute_reply": "2023-03-13T18:37:01.691955Z"
    },
    "papermill": {
     "duration": 0.040359,
     "end_time": "2023-03-13T18:37:01.694923",
     "exception": false,
     "start_time": "2023-03-13T18:37:01.654564",
     "status": "completed"
    },
    "tags": []
   },
   "outputs": [
    {
     "data": {
      "text/plain": [
       "SVC(kernel='linear', random_state=0)"
      ]
     },
     "execution_count": 31,
     "metadata": {},
     "output_type": "execute_result"
    }
   ],
   "source": [
    "from sklearn.svm import SVC\n",
    "SVM_classifier = SVC(kernel = 'linear', random_state = 0)\n",
    "SVM_classifier.fit(X_train, y_train)"
   ]
  },
  {
   "cell_type": "code",
   "execution_count": 32,
   "id": "132858b5",
   "metadata": {
    "execution": {
     "iopub.execute_input": "2023-03-13T18:37:01.726552Z",
     "iopub.status.busy": "2023-03-13T18:37:01.726162Z",
     "iopub.status.idle": "2023-03-13T18:37:01.739399Z",
     "shell.execute_reply": "2023-03-13T18:37:01.737639Z"
    },
    "papermill": {
     "duration": 0.031709,
     "end_time": "2023-03-13T18:37:01.741776",
     "exception": false,
     "start_time": "2023-03-13T18:37:01.710067",
     "status": "completed"
    },
    "tags": []
   },
   "outputs": [
    {
     "name": "stdout",
     "output_type": "stream",
     "text": [
      "[[115  24]\n",
      " [ 25  59]]\n"
     ]
    },
    {
     "data": {
      "text/plain": [
       "0.7802690582959642"
      ]
     },
     "execution_count": 32,
     "metadata": {},
     "output_type": "execute_result"
    }
   ],
   "source": [
    "y_pred = SVM_classifier.predict(X_test)\n",
    "from sklearn.metrics import confusion_matrix, accuracy_score\n",
    "cm = confusion_matrix(y_test, y_pred)\n",
    "print(cm)\n",
    "accuracy_score(y_test, y_pred)"
   ]
  },
  {
   "cell_type": "markdown",
   "id": "c6fa75b0",
   "metadata": {
    "papermill": {
     "duration": 0.014697,
     "end_time": "2023-03-13T18:37:01.771544",
     "exception": false,
     "start_time": "2023-03-13T18:37:01.756847",
     "status": "completed"
    },
    "tags": []
   },
   "source": [
    "# Kernel SVM"
   ]
  },
  {
   "cell_type": "code",
   "execution_count": 33,
   "id": "930b45cb",
   "metadata": {
    "execution": {
     "iopub.execute_input": "2023-03-13T18:37:01.804586Z",
     "iopub.status.busy": "2023-03-13T18:37:01.804186Z",
     "iopub.status.idle": "2023-03-13T18:37:01.827784Z",
     "shell.execute_reply": "2023-03-13T18:37:01.826735Z"
    },
    "papermill": {
     "duration": 0.043356,
     "end_time": "2023-03-13T18:37:01.829939",
     "exception": false,
     "start_time": "2023-03-13T18:37:01.786583",
     "status": "completed"
    },
    "tags": []
   },
   "outputs": [
    {
     "data": {
      "text/plain": [
       "SVC(random_state=0)"
      ]
     },
     "execution_count": 33,
     "metadata": {},
     "output_type": "execute_result"
    }
   ],
   "source": [
    "from sklearn.svm import SVC\n",
    "KSVM_classifier = SVC(kernel = 'rbf', random_state = 0)\n",
    "KSVM_classifier.fit(X_train, y_train)"
   ]
  },
  {
   "cell_type": "code",
   "execution_count": 34,
   "id": "25f3f520",
   "metadata": {
    "execution": {
     "iopub.execute_input": "2023-03-13T18:37:01.862675Z",
     "iopub.status.busy": "2023-03-13T18:37:01.861651Z",
     "iopub.status.idle": "2023-03-13T18:37:01.877266Z",
     "shell.execute_reply": "2023-03-13T18:37:01.875581Z"
    },
    "papermill": {
     "duration": 0.03462,
     "end_time": "2023-03-13T18:37:01.879833",
     "exception": false,
     "start_time": "2023-03-13T18:37:01.845213",
     "status": "completed"
    },
    "tags": []
   },
   "outputs": [
    {
     "name": "stdout",
     "output_type": "stream",
     "text": [
      "[[121  18]\n",
      " [ 25  59]]\n"
     ]
    },
    {
     "data": {
      "text/plain": [
       "0.8071748878923767"
      ]
     },
     "execution_count": 34,
     "metadata": {},
     "output_type": "execute_result"
    }
   ],
   "source": [
    "y_pred = KSVM_classifier.predict(X_test)\n",
    "from sklearn.metrics import confusion_matrix, accuracy_score\n",
    "cm = confusion_matrix(y_test, y_pred)\n",
    "print(cm)\n",
    "accuracy_score(y_test, y_pred)"
   ]
  },
  {
   "cell_type": "markdown",
   "id": "28ecbff4",
   "metadata": {
    "papermill": {
     "duration": 0.015541,
     "end_time": "2023-03-13T18:37:01.911208",
     "exception": false,
     "start_time": "2023-03-13T18:37:01.895667",
     "status": "completed"
    },
    "tags": []
   },
   "source": [
    "From the given classification models highest accuracy is given by Random Forest Classifier. Hence we'll use it to find the results of given test set."
   ]
  },
  {
   "cell_type": "code",
   "execution_count": 35,
   "id": "816cdd6c",
   "metadata": {
    "execution": {
     "iopub.execute_input": "2023-03-13T18:37:01.944326Z",
     "iopub.status.busy": "2023-03-13T18:37:01.943920Z",
     "iopub.status.idle": "2023-03-13T18:37:01.952847Z",
     "shell.execute_reply": "2023-03-13T18:37:01.951720Z"
    },
    "papermill": {
     "duration": 0.028866,
     "end_time": "2023-03-13T18:37:01.955601",
     "exception": false,
     "start_time": "2023-03-13T18:37:01.926735",
     "status": "completed"
    },
    "tags": []
   },
   "outputs": [
    {
     "name": "stdout",
     "output_type": "stream",
     "text": [
      "[[ 3.      0.     34.5     0.      0.      7.8292  0.      0.    ]\n",
      " [ 3.      1.     47.      1.      0.      7.      0.      1.    ]\n",
      " [ 2.      0.     62.      0.      0.      9.6875  0.      0.    ]\n",
      " [ 3.      0.     27.      0.      0.      8.6625  0.      1.    ]\n",
      " [ 3.      1.     22.      1.      1.     12.2875  0.      1.    ]]\n"
     ]
    }
   ],
   "source": [
    "test=df_test1.loc[:,['Pclass', 'Sex', 'Age', 'SibSp','Parch', 'Fare', 'Embarked_C', 'Embarked_S']].values\n",
    "print(test[0:5])"
   ]
  },
  {
   "cell_type": "code",
   "execution_count": 36,
   "id": "d48ad886",
   "metadata": {
    "execution": {
     "iopub.execute_input": "2023-03-13T18:37:01.988239Z",
     "iopub.status.busy": "2023-03-13T18:37:01.987843Z",
     "iopub.status.idle": "2023-03-13T18:37:01.999047Z",
     "shell.execute_reply": "2023-03-13T18:37:01.997953Z"
    },
    "papermill": {
     "duration": 0.030361,
     "end_time": "2023-03-13T18:37:02.001566",
     "exception": false,
     "start_time": "2023-03-13T18:37:01.971205",
     "status": "completed"
    },
    "tags": []
   },
   "outputs": [
    {
     "data": {
      "text/plain": [
       "array([[  0, 412],\n",
       "       [  1,   6]])"
      ]
     },
     "execution_count": 36,
     "metadata": {},
     "output_type": "execute_result"
    }
   ],
   "source": [
    "test_pred_RF = RF_classifier.predict(test)\n",
    "np.array(np.unique(test_pred_RF, return_counts=True)).T"
   ]
  },
  {
   "cell_type": "code",
   "execution_count": 37,
   "id": "c4032d96",
   "metadata": {
    "execution": {
     "iopub.execute_input": "2023-03-13T18:37:02.034875Z",
     "iopub.status.busy": "2023-03-13T18:37:02.034466Z",
     "iopub.status.idle": "2023-03-13T18:37:02.050126Z",
     "shell.execute_reply": "2023-03-13T18:37:02.048938Z"
    },
    "papermill": {
     "duration": 0.034749,
     "end_time": "2023-03-13T18:37:02.052243",
     "exception": false,
     "start_time": "2023-03-13T18:37:02.017494",
     "status": "completed"
    },
    "tags": []
   },
   "outputs": [
    {
     "data": {
      "text/plain": [
       "array([[  0, 418]])"
      ]
     },
     "execution_count": 37,
     "metadata": {},
     "output_type": "execute_result"
    }
   ],
   "source": [
    "test_pred_KSVM = KSVM_classifier.predict(test)\n",
    "np.array(np.unique(test_pred_KSVM, return_counts=True)).T"
   ]
  },
  {
   "cell_type": "code",
   "execution_count": 38,
   "id": "5769ff80",
   "metadata": {
    "execution": {
     "iopub.execute_input": "2023-03-13T18:37:02.085550Z",
     "iopub.status.busy": "2023-03-13T18:37:02.085186Z",
     "iopub.status.idle": "2023-03-13T18:37:02.095770Z",
     "shell.execute_reply": "2023-03-13T18:37:02.094766Z"
    },
    "papermill": {
     "duration": 0.029787,
     "end_time": "2023-03-13T18:37:02.097997",
     "exception": false,
     "start_time": "2023-03-13T18:37:02.068210",
     "status": "completed"
    },
    "tags": []
   },
   "outputs": [
    {
     "data": {
      "text/plain": [
       "array([[  0, 266],\n",
       "       [  1, 152]])"
      ]
     },
     "execution_count": 38,
     "metadata": {},
     "output_type": "execute_result"
    }
   ],
   "source": [
    "test_pred_SVM = SVM_classifier.predict(test)\n",
    "np.array(np.unique(test_pred_SVM, return_counts=True)).T"
   ]
  },
  {
   "cell_type": "code",
   "execution_count": 39,
   "id": "0aa2de41",
   "metadata": {
    "execution": {
     "iopub.execute_input": "2023-03-13T18:37:02.132375Z",
     "iopub.status.busy": "2023-03-13T18:37:02.131683Z",
     "iopub.status.idle": "2023-03-13T18:37:02.139210Z",
     "shell.execute_reply": "2023-03-13T18:37:02.138184Z"
    },
    "papermill": {
     "duration": 0.027278,
     "end_time": "2023-03-13T18:37:02.141333",
     "exception": false,
     "start_time": "2023-03-13T18:37:02.114055",
     "status": "completed"
    },
    "tags": []
   },
   "outputs": [
    {
     "data": {
      "text/plain": [
       "array([[  0,  54],\n",
       "       [  1, 364]])"
      ]
     },
     "execution_count": 39,
     "metadata": {},
     "output_type": "execute_result"
    }
   ],
   "source": [
    "test_pred_DT = DT_classifier.predict(test)\n",
    "np.array(np.unique(test_pred_DT, return_counts=True)).T"
   ]
  },
  {
   "cell_type": "code",
   "execution_count": 40,
   "id": "7b798d76",
   "metadata": {
    "execution": {
     "iopub.execute_input": "2023-03-13T18:37:02.174917Z",
     "iopub.status.busy": "2023-03-13T18:37:02.174492Z",
     "iopub.status.idle": "2023-03-13T18:37:02.182520Z",
     "shell.execute_reply": "2023-03-13T18:37:02.181464Z"
    },
    "papermill": {
     "duration": 0.027631,
     "end_time": "2023-03-13T18:37:02.184867",
     "exception": false,
     "start_time": "2023-03-13T18:37:02.157236",
     "status": "completed"
    },
    "tags": []
   },
   "outputs": [
    {
     "data": {
      "text/plain": [
       "array([[  0, 411],\n",
       "       [  1,   7]])"
      ]
     },
     "execution_count": 40,
     "metadata": {},
     "output_type": "execute_result"
    }
   ],
   "source": [
    "test_pred_LR = LR_classifier.predict(test)\n",
    "np.array(np.unique(test_pred_LR, return_counts=True)).T"
   ]
  },
  {
   "cell_type": "code",
   "execution_count": 41,
   "id": "17cf8589",
   "metadata": {
    "execution": {
     "iopub.execute_input": "2023-03-13T18:37:02.219274Z",
     "iopub.status.busy": "2023-03-13T18:37:02.218891Z",
     "iopub.status.idle": "2023-03-13T18:37:02.239821Z",
     "shell.execute_reply": "2023-03-13T18:37:02.238767Z"
    },
    "papermill": {
     "duration": 0.041071,
     "end_time": "2023-03-13T18:37:02.242268",
     "exception": false,
     "start_time": "2023-03-13T18:37:02.201197",
     "status": "completed"
    },
    "tags": []
   },
   "outputs": [
    {
     "data": {
      "text/plain": [
       "array([[  0, 188],\n",
       "       [  1, 230]])"
      ]
     },
     "execution_count": 41,
     "metadata": {},
     "output_type": "execute_result"
    }
   ],
   "source": [
    "test_pred_KN = KN_classifier.predict(test)\n",
    "np.array(np.unique(test_pred_KN, return_counts=True)).T"
   ]
  }
 ],
 "metadata": {
  "kernelspec": {
   "display_name": "Python 3",
   "language": "python",
   "name": "python3"
  },
  "language_info": {
   "codemirror_mode": {
    "name": "ipython",
    "version": 3
   },
   "file_extension": ".py",
   "mimetype": "text/x-python",
   "name": "python",
   "nbconvert_exporter": "python",
   "pygments_lexer": "ipython3",
   "version": "3.7.12"
  },
  "papermill": {
   "default_parameters": {},
   "duration": 14.832741,
   "end_time": "2023-03-13T18:37:02.979937",
   "environment_variables": {},
   "exception": null,
   "input_path": "__notebook__.ipynb",
   "output_path": "__notebook__.ipynb",
   "parameters": {},
   "start_time": "2023-03-13T18:36:48.147196",
   "version": "2.3.4"
  }
 },
 "nbformat": 4,
 "nbformat_minor": 5
}
