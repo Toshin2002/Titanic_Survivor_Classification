{
 "cells": [
  {
   "cell_type": "code",
   "execution_count": 1,
   "id": "c26fdaa0",
   "metadata": {
    "execution": {
     "iopub.execute_input": "2023-03-12T13:13:17.125959Z",
     "iopub.status.busy": "2023-03-12T13:13:17.125458Z",
     "iopub.status.idle": "2023-03-12T13:13:17.137286Z",
     "shell.execute_reply": "2023-03-12T13:13:17.136191Z"
    },
    "papermill": {
     "duration": 0.024262,
     "end_time": "2023-03-12T13:13:17.139963",
     "exception": false,
     "start_time": "2023-03-12T13:13:17.115701",
     "status": "completed"
    },
    "tags": []
   },
   "outputs": [],
   "source": [
    "#importing libraries\n",
    "import pandas as pd\n",
    "import numpy as np\n",
    "import matplotlib.pyplot as plt\n"
   ]
  },
  {
   "cell_type": "code",
   "execution_count": 2,
   "id": "f7fa091e",
   "metadata": {
    "execution": {
     "iopub.execute_input": "2023-03-12T13:13:17.154958Z",
     "iopub.status.busy": "2023-03-12T13:13:17.154210Z",
     "iopub.status.idle": "2023-03-12T13:13:17.182466Z",
     "shell.execute_reply": "2023-03-12T13:13:17.181633Z"
    },
    "papermill": {
     "duration": 0.038465,
     "end_time": "2023-03-12T13:13:17.184937",
     "exception": false,
     "start_time": "2023-03-12T13:13:17.146472",
     "status": "completed"
    },
    "tags": []
   },
   "outputs": [],
   "source": [
    "df_train=pd.read_csv(\"/kaggle/input/titanic/train.csv\")\n",
    "df_test=pd.read_csv(\"/kaggle/input/titanic/test.csv\")"
   ]
  },
  {
   "cell_type": "code",
   "execution_count": 3,
   "id": "f12bc8b8",
   "metadata": {
    "execution": {
     "iopub.execute_input": "2023-03-12T13:13:17.199215Z",
     "iopub.status.busy": "2023-03-12T13:13:17.198629Z",
     "iopub.status.idle": "2023-03-12T13:13:17.241283Z",
     "shell.execute_reply": "2023-03-12T13:13:17.240285Z"
    },
    "papermill": {
     "duration": 0.053485,
     "end_time": "2023-03-12T13:13:17.244867",
     "exception": false,
     "start_time": "2023-03-12T13:13:17.191382",
     "status": "completed"
    },
    "tags": []
   },
   "outputs": [
    {
     "name": "stdout",
     "output_type": "stream",
     "text": [
      "(891, 12)\n",
      "       PassengerId    Survived      Pclass         Age       SibSp  \\\n",
      "count   891.000000  891.000000  891.000000  714.000000  891.000000   \n",
      "mean    446.000000    0.383838    2.308642   29.699118    0.523008   \n",
      "std     257.353842    0.486592    0.836071   14.526497    1.102743   \n",
      "min       1.000000    0.000000    1.000000    0.420000    0.000000   \n",
      "25%     223.500000    0.000000    2.000000   20.125000    0.000000   \n",
      "50%     446.000000    0.000000    3.000000   28.000000    0.000000   \n",
      "75%     668.500000    1.000000    3.000000   38.000000    1.000000   \n",
      "max     891.000000    1.000000    3.000000   80.000000    8.000000   \n",
      "\n",
      "            Parch        Fare  \n",
      "count  891.000000  891.000000  \n",
      "mean     0.381594   32.204208  \n",
      "std      0.806057   49.693429  \n",
      "min      0.000000    0.000000  \n",
      "25%      0.000000    7.910400  \n",
      "50%      0.000000   14.454200  \n",
      "75%      0.000000   31.000000  \n",
      "max      6.000000  512.329200  \n",
      "   PassengerId  Survived  Pclass  \\\n",
      "0            1         0       3   \n",
      "1            2         1       1   \n",
      "2            3         1       3   \n",
      "3            4         1       1   \n",
      "4            5         0       3   \n",
      "\n",
      "                                                Name     Sex   Age  SibSp  \\\n",
      "0                            Braund, Mr. Owen Harris    male  22.0      1   \n",
      "1  Cumings, Mrs. John Bradley (Florence Briggs Th...  female  38.0      1   \n",
      "2                             Heikkinen, Miss. Laina  female  26.0      0   \n",
      "3       Futrelle, Mrs. Jacques Heath (Lily May Peel)  female  35.0      1   \n",
      "4                           Allen, Mr. William Henry    male  35.0      0   \n",
      "\n",
      "   Parch            Ticket     Fare Cabin Embarked  \n",
      "0      0         A/5 21171   7.2500   NaN        S  \n",
      "1      0          PC 17599  71.2833   C85        C  \n",
      "2      0  STON/O2. 3101282   7.9250   NaN        S  \n",
      "3      0            113803  53.1000  C123        S  \n",
      "4      0            373450   8.0500   NaN        S  \n"
     ]
    }
   ],
   "source": [
    "print(df_train.shape)\n",
    "print(df_train.describe())\n",
    "print(df_train.head())"
   ]
  },
  {
   "cell_type": "code",
   "execution_count": 4,
   "id": "355d544a",
   "metadata": {
    "execution": {
     "iopub.execute_input": "2023-03-12T13:13:17.260318Z",
     "iopub.status.busy": "2023-03-12T13:13:17.259985Z",
     "iopub.status.idle": "2023-03-12T13:13:17.288973Z",
     "shell.execute_reply": "2023-03-12T13:13:17.287655Z"
    },
    "papermill": {
     "duration": 0.03913,
     "end_time": "2023-03-12T13:13:17.291411",
     "exception": false,
     "start_time": "2023-03-12T13:13:17.252281",
     "status": "completed"
    },
    "tags": []
   },
   "outputs": [
    {
     "name": "stdout",
     "output_type": "stream",
     "text": [
      "(418, 11)\n",
      "       PassengerId      Pclass         Age       SibSp       Parch        Fare\n",
      "count   418.000000  418.000000  332.000000  418.000000  418.000000  417.000000\n",
      "mean   1100.500000    2.265550   30.272590    0.447368    0.392344   35.627188\n",
      "std     120.810458    0.841838   14.181209    0.896760    0.981429   55.907576\n",
      "min     892.000000    1.000000    0.170000    0.000000    0.000000    0.000000\n",
      "25%     996.250000    1.000000   21.000000    0.000000    0.000000    7.895800\n",
      "50%    1100.500000    3.000000   27.000000    0.000000    0.000000   14.454200\n",
      "75%    1204.750000    3.000000   39.000000    1.000000    0.000000   31.500000\n",
      "max    1309.000000    3.000000   76.000000    8.000000    9.000000  512.329200\n",
      "   PassengerId  Pclass                                          Name     Sex  \\\n",
      "0          892       3                              Kelly, Mr. James    male   \n",
      "1          893       3              Wilkes, Mrs. James (Ellen Needs)  female   \n",
      "2          894       2                     Myles, Mr. Thomas Francis    male   \n",
      "3          895       3                              Wirz, Mr. Albert    male   \n",
      "4          896       3  Hirvonen, Mrs. Alexander (Helga E Lindqvist)  female   \n",
      "\n",
      "    Age  SibSp  Parch   Ticket     Fare Cabin Embarked  \n",
      "0  34.5      0      0   330911   7.8292   NaN        Q  \n",
      "1  47.0      1      0   363272   7.0000   NaN        S  \n",
      "2  62.0      0      0   240276   9.6875   NaN        Q  \n",
      "3  27.0      0      0   315154   8.6625   NaN        S  \n",
      "4  22.0      1      1  3101298  12.2875   NaN        S  \n"
     ]
    }
   ],
   "source": [
    "print(df_test.shape)\n",
    "print(df_test.describe())\n",
    "print(df_test.head())"
   ]
  },
  {
   "cell_type": "code",
   "execution_count": 5,
   "id": "dc2024a9",
   "metadata": {
    "execution": {
     "iopub.execute_input": "2023-03-12T13:13:17.306340Z",
     "iopub.status.busy": "2023-03-12T13:13:17.305234Z",
     "iopub.status.idle": "2023-03-12T13:13:17.316318Z",
     "shell.execute_reply": "2023-03-12T13:13:17.314595Z"
    },
    "papermill": {
     "duration": 0.021243,
     "end_time": "2023-03-12T13:13:17.318862",
     "exception": false,
     "start_time": "2023-03-12T13:13:17.297619",
     "status": "completed"
    },
    "tags": []
   },
   "outputs": [
    {
     "name": "stdout",
     "output_type": "stream",
     "text": [
      "PassengerId      0\n",
      "Survived         0\n",
      "Pclass           0\n",
      "Name             0\n",
      "Sex              0\n",
      "Age            177\n",
      "SibSp            0\n",
      "Parch            0\n",
      "Ticket           0\n",
      "Fare             0\n",
      "Cabin          687\n",
      "Embarked         2\n",
      "dtype: int64\n",
      "--------------------------\n",
      "PassengerId      0\n",
      "Pclass           0\n",
      "Name             0\n",
      "Sex              0\n",
      "Age             86\n",
      "SibSp            0\n",
      "Parch            0\n",
      "Ticket           0\n",
      "Fare             1\n",
      "Cabin          327\n",
      "Embarked         0\n",
      "dtype: int64\n"
     ]
    }
   ],
   "source": [
    "print(df_train.isnull().sum())\n",
    "print('--------------------------')\n",
    "print(df_test.isnull().sum())"
   ]
  },
  {
   "cell_type": "code",
   "execution_count": 6,
   "id": "6a34125e",
   "metadata": {
    "execution": {
     "iopub.execute_input": "2023-03-12T13:13:17.337559Z",
     "iopub.status.busy": "2023-03-12T13:13:17.336613Z",
     "iopub.status.idle": "2023-03-12T13:13:17.370826Z",
     "shell.execute_reply": "2023-03-12T13:13:17.368225Z"
    },
    "papermill": {
     "duration": 0.046927,
     "end_time": "2023-03-12T13:13:17.374133",
     "exception": false,
     "start_time": "2023-03-12T13:13:17.327206",
     "status": "completed"
    },
    "tags": []
   },
   "outputs": [
    {
     "name": "stdout",
     "output_type": "stream",
     "text": [
      "Value counts of some variables train set\n",
      "S    644\n",
      "C    168\n",
      "Q     77\n",
      "Name: Embarked, dtype: int64\n",
      "---------------------------------------\n",
      "male      577\n",
      "female    314\n",
      "Name: Sex, dtype: int64\n",
      "---------------------------------------\n",
      "24.00    30\n",
      "22.00    27\n",
      "18.00    26\n",
      "19.00    25\n",
      "28.00    25\n",
      "         ..\n",
      "36.50     1\n",
      "55.50     1\n",
      "0.92      1\n",
      "23.50     1\n",
      "74.00     1\n",
      "Name: Age, Length: 88, dtype: int64\n",
      "---------------------------------------\n",
      "3    491\n",
      "1    216\n",
      "2    184\n",
      "Name: Pclass, dtype: int64\n",
      "---------------------------------------\n",
      "0    608\n",
      "1    209\n",
      "2     28\n",
      "4     18\n",
      "3     16\n",
      "8      7\n",
      "5      5\n",
      "Name: SibSp, dtype: int64\n",
      "---------------------------------------\n",
      "0    678\n",
      "1    118\n",
      "2     80\n",
      "5      5\n",
      "3      5\n",
      "4      4\n",
      "6      1\n",
      "Name: Parch, dtype: int64\n",
      "---------------------------------------\n",
      "B96 B98        4\n",
      "G6             4\n",
      "C23 C25 C27    4\n",
      "C22 C26        3\n",
      "F33            3\n",
      "              ..\n",
      "E34            1\n",
      "C7             1\n",
      "C54            1\n",
      "E36            1\n",
      "C148           1\n",
      "Name: Cabin, Length: 147, dtype: int64\n",
      "---------------------------------------\n",
      "---------------------------------------\n",
      "Value counts of some variables test set\n",
      "S    270\n",
      "C    102\n",
      "Q     46\n",
      "Name: Embarked, dtype: int64\n",
      "---------------------------------------\n",
      "male      266\n",
      "female    152\n",
      "Name: Sex, dtype: int64\n",
      "---------------------------------------\n",
      "24.00    30\n",
      "22.00    27\n",
      "18.00    26\n",
      "19.00    25\n",
      "28.00    25\n",
      "         ..\n",
      "36.50     1\n",
      "55.50     1\n",
      "0.92      1\n",
      "23.50     1\n",
      "74.00     1\n",
      "Name: Age, Length: 88, dtype: int64\n",
      "---------------------------------------\n",
      "3    218\n",
      "1    107\n",
      "2     93\n",
      "Name: Pclass, dtype: int64\n",
      "---------------------------------------\n",
      "0    283\n",
      "1    110\n",
      "2     14\n",
      "3      4\n",
      "4      4\n",
      "8      2\n",
      "5      1\n",
      "Name: SibSp, dtype: int64\n",
      "---------------------------------------\n",
      "0    324\n",
      "1     52\n",
      "2     33\n",
      "3      3\n",
      "4      2\n",
      "9      2\n",
      "6      1\n",
      "5      1\n",
      "Name: Parch, dtype: int64\n",
      "---------------------------------------\n",
      "B57 B59 B63 B66    3\n",
      "B45                2\n",
      "C89                2\n",
      "C55 C57            2\n",
      "A34                2\n",
      "                  ..\n",
      "E52                1\n",
      "D30                1\n",
      "E31                1\n",
      "C62 C64            1\n",
      "C105               1\n",
      "Name: Cabin, Length: 76, dtype: int64\n",
      "---------------------------------------\n"
     ]
    }
   ],
   "source": [
    "print(\"Value counts of some variables train set\")\n",
    "print(df_train['Embarked'].value_counts())\n",
    "print('---------------------------------------')\n",
    "print(df_train['Sex'].value_counts())\n",
    "print('---------------------------------------')\n",
    "print(df_train['Age'].value_counts())\n",
    "print('---------------------------------------')\n",
    "print(df_train['Pclass'].value_counts())\n",
    "print('---------------------------------------')\n",
    "print(df_train['SibSp'].value_counts())\n",
    "print('---------------------------------------')\n",
    "print(df_train['Parch'].value_counts())\n",
    "print('---------------------------------------')\n",
    "print(df_train['Cabin'].value_counts())\n",
    "print('---------------------------------------')\n",
    "print('---------------------------------------')\n",
    "print(\"Value counts of some variables test set\")\n",
    "print(df_test['Embarked'].value_counts())\n",
    "print('---------------------------------------')\n",
    "print(df_test['Sex'].value_counts())\n",
    "print('---------------------------------------')\n",
    "print(df_train['Age'].value_counts())\n",
    "print('---------------------------------------')\n",
    "print(df_test['Pclass'].value_counts())\n",
    "print('---------------------------------------')\n",
    "print(df_test['SibSp'].value_counts())\n",
    "print('---------------------------------------')\n",
    "print(df_test['Parch'].value_counts())\n",
    "print('---------------------------------------')\n",
    "print(df_test['Cabin'].value_counts())\n",
    "print('---------------------------------------')\n"
   ]
  },
  {
   "cell_type": "code",
   "execution_count": 7,
   "id": "05c7e9b5",
   "metadata": {
    "execution": {
     "iopub.execute_input": "2023-03-12T13:13:17.393256Z",
     "iopub.status.busy": "2023-03-12T13:13:17.392467Z",
     "iopub.status.idle": "2023-03-12T13:13:17.398873Z",
     "shell.execute_reply": "2023-03-12T13:13:17.397841Z"
    },
    "papermill": {
     "duration": 0.016745,
     "end_time": "2023-03-12T13:13:17.401065",
     "exception": false,
     "start_time": "2023-03-12T13:13:17.384320",
     "status": "completed"
    },
    "tags": []
   },
   "outputs": [],
   "source": [
    "#Replacing null values in the age column with the mean age \n",
    "df_train['Age']=df_train['Age'].fillna(30)\n",
    "# df_train['Age'].isnull().sum()\n",
    "df_test['Age']=df_test['Age'].fillna(30)\n",
    "# df_test['Age'].isnull().sum()"
   ]
  },
  {
   "cell_type": "code",
   "execution_count": 8,
   "id": "ab418ef6",
   "metadata": {
    "execution": {
     "iopub.execute_input": "2023-03-12T13:13:17.416618Z",
     "iopub.status.busy": "2023-03-12T13:13:17.416265Z",
     "iopub.status.idle": "2023-03-12T13:13:17.423119Z",
     "shell.execute_reply": "2023-03-12T13:13:17.422076Z"
    },
    "papermill": {
     "duration": 0.018142,
     "end_time": "2023-03-12T13:13:17.425880",
     "exception": false,
     "start_time": "2023-03-12T13:13:17.407738",
     "status": "completed"
    },
    "tags": []
   },
   "outputs": [
    {
     "name": "stdout",
     "output_type": "stream",
     "text": [
      "XXXXXXXXXXXXX    ALL NULL VALUES HAVE BEEN TAKEN CARE OF    XXXXXXXXXXXXX\n"
     ]
    }
   ],
   "source": [
    "#Replacing null values in the other columns\n",
    "df_train['Embarked']=df_train['Embarked'].fillna('S')  \n",
    "df_test['Fare']=df_test['Fare'].fillna(35.6)  \n",
    "print('XXXXXXXXXXXXX    ALL NULL VALUES HAVE BEEN TAKEN CARE OF    XXXXXXXXXXXXX')"
   ]
  },
  {
   "cell_type": "markdown",
   "id": "5d4d863f",
   "metadata": {
    "papermill": {
     "duration": 0.006602,
     "end_time": "2023-03-12T13:13:17.439343",
     "exception": false,
     "start_time": "2023-03-12T13:13:17.432741",
     "status": "completed"
    },
    "tags": []
   },
   "source": [
    "**ENCODING THE CATEGORICAL VARIABLES**"
   ]
  },
  {
   "cell_type": "code",
   "execution_count": 9,
   "id": "6f037370",
   "metadata": {
    "execution": {
     "iopub.execute_input": "2023-03-12T13:13:17.454675Z",
     "iopub.status.busy": "2023-03-12T13:13:17.454296Z",
     "iopub.status.idle": "2023-03-12T13:13:17.465209Z",
     "shell.execute_reply": "2023-03-12T13:13:17.463559Z"
    },
    "papermill": {
     "duration": 0.021777,
     "end_time": "2023-03-12T13:13:17.467918",
     "exception": false,
     "start_time": "2023-03-12T13:13:17.446141",
     "status": "completed"
    },
    "tags": []
   },
   "outputs": [
    {
     "name": "stdout",
     "output_type": "stream",
     "text": [
      "male      577\n",
      "female    314\n",
      "Name: Sex, dtype: int64\n",
      "   female  male\n",
      "0       0     1\n",
      "1       1     0\n",
      "2       1     0\n",
      "3       1     0\n",
      "4       0     1\n"
     ]
    }
   ],
   "source": [
    "#firstly the training set\n",
    "print(df_train['Sex'].value_counts())\n",
    "dummy = pd.get_dummies(df_train['Sex'])\n",
    "print(dummy.head())"
   ]
  },
  {
   "cell_type": "code",
   "execution_count": 10,
   "id": "66589622",
   "metadata": {
    "execution": {
     "iopub.execute_input": "2023-03-12T13:13:17.483305Z",
     "iopub.status.busy": "2023-03-12T13:13:17.482960Z",
     "iopub.status.idle": "2023-03-12T13:13:17.506984Z",
     "shell.execute_reply": "2023-03-12T13:13:17.505699Z"
    },
    "papermill": {
     "duration": 0.034339,
     "end_time": "2023-03-12T13:13:17.509303",
     "exception": false,
     "start_time": "2023-03-12T13:13:17.474964",
     "status": "completed"
    },
    "tags": []
   },
   "outputs": [
    {
     "data": {
      "text/html": [
       "<div>\n",
       "<style scoped>\n",
       "    .dataframe tbody tr th:only-of-type {\n",
       "        vertical-align: middle;\n",
       "    }\n",
       "\n",
       "    .dataframe tbody tr th {\n",
       "        vertical-align: top;\n",
       "    }\n",
       "\n",
       "    .dataframe thead th {\n",
       "        text-align: right;\n",
       "    }\n",
       "</style>\n",
       "<table border=\"1\" class=\"dataframe\">\n",
       "  <thead>\n",
       "    <tr style=\"text-align: right;\">\n",
       "      <th></th>\n",
       "      <th>PassengerId</th>\n",
       "      <th>Survived</th>\n",
       "      <th>Pclass</th>\n",
       "      <th>Name</th>\n",
       "      <th>Age</th>\n",
       "      <th>SibSp</th>\n",
       "      <th>Parch</th>\n",
       "      <th>Ticket</th>\n",
       "      <th>Fare</th>\n",
       "      <th>Cabin</th>\n",
       "      <th>Embarked</th>\n",
       "      <th>Sex</th>\n",
       "    </tr>\n",
       "  </thead>\n",
       "  <tbody>\n",
       "    <tr>\n",
       "      <th>0</th>\n",
       "      <td>1</td>\n",
       "      <td>0</td>\n",
       "      <td>3</td>\n",
       "      <td>Braund, Mr. Owen Harris</td>\n",
       "      <td>22.0</td>\n",
       "      <td>1</td>\n",
       "      <td>0</td>\n",
       "      <td>A/5 21171</td>\n",
       "      <td>7.2500</td>\n",
       "      <td>NaN</td>\n",
       "      <td>S</td>\n",
       "      <td>0</td>\n",
       "    </tr>\n",
       "    <tr>\n",
       "      <th>1</th>\n",
       "      <td>2</td>\n",
       "      <td>1</td>\n",
       "      <td>1</td>\n",
       "      <td>Cumings, Mrs. John Bradley (Florence Briggs Th...</td>\n",
       "      <td>38.0</td>\n",
       "      <td>1</td>\n",
       "      <td>0</td>\n",
       "      <td>PC 17599</td>\n",
       "      <td>71.2833</td>\n",
       "      <td>C85</td>\n",
       "      <td>C</td>\n",
       "      <td>1</td>\n",
       "    </tr>\n",
       "    <tr>\n",
       "      <th>2</th>\n",
       "      <td>3</td>\n",
       "      <td>1</td>\n",
       "      <td>3</td>\n",
       "      <td>Heikkinen, Miss. Laina</td>\n",
       "      <td>26.0</td>\n",
       "      <td>0</td>\n",
       "      <td>0</td>\n",
       "      <td>STON/O2. 3101282</td>\n",
       "      <td>7.9250</td>\n",
       "      <td>NaN</td>\n",
       "      <td>S</td>\n",
       "      <td>1</td>\n",
       "    </tr>\n",
       "    <tr>\n",
       "      <th>3</th>\n",
       "      <td>4</td>\n",
       "      <td>1</td>\n",
       "      <td>1</td>\n",
       "      <td>Futrelle, Mrs. Jacques Heath (Lily May Peel)</td>\n",
       "      <td>35.0</td>\n",
       "      <td>1</td>\n",
       "      <td>0</td>\n",
       "      <td>113803</td>\n",
       "      <td>53.1000</td>\n",
       "      <td>C123</td>\n",
       "      <td>S</td>\n",
       "      <td>1</td>\n",
       "    </tr>\n",
       "    <tr>\n",
       "      <th>4</th>\n",
       "      <td>5</td>\n",
       "      <td>0</td>\n",
       "      <td>3</td>\n",
       "      <td>Allen, Mr. William Henry</td>\n",
       "      <td>35.0</td>\n",
       "      <td>0</td>\n",
       "      <td>0</td>\n",
       "      <td>373450</td>\n",
       "      <td>8.0500</td>\n",
       "      <td>NaN</td>\n",
       "      <td>S</td>\n",
       "      <td>0</td>\n",
       "    </tr>\n",
       "  </tbody>\n",
       "</table>\n",
       "</div>"
      ],
      "text/plain": [
       "   PassengerId  Survived  Pclass  \\\n",
       "0            1         0       3   \n",
       "1            2         1       1   \n",
       "2            3         1       3   \n",
       "3            4         1       1   \n",
       "4            5         0       3   \n",
       "\n",
       "                                                Name   Age  SibSp  Parch  \\\n",
       "0                            Braund, Mr. Owen Harris  22.0      1      0   \n",
       "1  Cumings, Mrs. John Bradley (Florence Briggs Th...  38.0      1      0   \n",
       "2                             Heikkinen, Miss. Laina  26.0      0      0   \n",
       "3       Futrelle, Mrs. Jacques Heath (Lily May Peel)  35.0      1      0   \n",
       "4                           Allen, Mr. William Henry  35.0      0      0   \n",
       "\n",
       "             Ticket     Fare Cabin Embarked  Sex  \n",
       "0         A/5 21171   7.2500   NaN        S    0  \n",
       "1          PC 17599  71.2833   C85        C    1  \n",
       "2  STON/O2. 3101282   7.9250   NaN        S    1  \n",
       "3            113803  53.1000  C123        S    1  \n",
       "4            373450   8.0500   NaN        S    0  "
      ]
     },
     "execution_count": 10,
     "metadata": {},
     "output_type": "execute_result"
    }
   ],
   "source": [
    "df_train1 = pd.concat((df_train,dummy),axis=1)\n",
    "df_train1=df_train1.drop(['Sex','male'],axis=1)\n",
    "df_train1=df_train1.rename(columns={'female':'Sex'})\n",
    "df_train1.head()"
   ]
  },
  {
   "cell_type": "code",
   "execution_count": 11,
   "id": "1d129e1a",
   "metadata": {
    "execution": {
     "iopub.execute_input": "2023-03-12T13:13:17.525087Z",
     "iopub.status.busy": "2023-03-12T13:13:17.524695Z",
     "iopub.status.idle": "2023-03-12T13:13:17.536732Z",
     "shell.execute_reply": "2023-03-12T13:13:17.535254Z"
    },
    "papermill": {
     "duration": 0.02242,
     "end_time": "2023-03-12T13:13:17.539022",
     "exception": false,
     "start_time": "2023-03-12T13:13:17.516602",
     "status": "completed"
    },
    "tags": []
   },
   "outputs": [
    {
     "name": "stdout",
     "output_type": "stream",
     "text": [
      "S    646\n",
      "C    168\n",
      "Q     77\n",
      "Name: Embarked, dtype: int64\n",
      "   C  Q  S\n",
      "0  0  0  1\n",
      "1  1  0  0\n",
      "2  0  0  1\n",
      "3  0  0  1\n",
      "4  0  0  1\n"
     ]
    }
   ],
   "source": [
    "print(df_train1['Embarked'].value_counts())\n",
    "dummy_embarked=pd.get_dummies(df_train1['Embarked'])\n",
    "print(dummy_embarked.head())"
   ]
  },
  {
   "cell_type": "code",
   "execution_count": 12,
   "id": "95d32431",
   "metadata": {
    "execution": {
     "iopub.execute_input": "2023-03-12T13:13:17.554632Z",
     "iopub.status.busy": "2023-03-12T13:13:17.554298Z",
     "iopub.status.idle": "2023-03-12T13:13:17.576194Z",
     "shell.execute_reply": "2023-03-12T13:13:17.575057Z"
    },
    "papermill": {
     "duration": 0.032113,
     "end_time": "2023-03-12T13:13:17.578267",
     "exception": false,
     "start_time": "2023-03-12T13:13:17.546154",
     "status": "completed"
    },
    "tags": []
   },
   "outputs": [
    {
     "data": {
      "text/html": [
       "<div>\n",
       "<style scoped>\n",
       "    .dataframe tbody tr th:only-of-type {\n",
       "        vertical-align: middle;\n",
       "    }\n",
       "\n",
       "    .dataframe tbody tr th {\n",
       "        vertical-align: top;\n",
       "    }\n",
       "\n",
       "    .dataframe thead th {\n",
       "        text-align: right;\n",
       "    }\n",
       "</style>\n",
       "<table border=\"1\" class=\"dataframe\">\n",
       "  <thead>\n",
       "    <tr style=\"text-align: right;\">\n",
       "      <th></th>\n",
       "      <th>PassengerId</th>\n",
       "      <th>Survived</th>\n",
       "      <th>Pclass</th>\n",
       "      <th>Name</th>\n",
       "      <th>Age</th>\n",
       "      <th>SibSp</th>\n",
       "      <th>Parch</th>\n",
       "      <th>Ticket</th>\n",
       "      <th>Fare</th>\n",
       "      <th>Cabin</th>\n",
       "      <th>Sex</th>\n",
       "      <th>Embarked_C</th>\n",
       "      <th>Embarked_S</th>\n",
       "    </tr>\n",
       "  </thead>\n",
       "  <tbody>\n",
       "    <tr>\n",
       "      <th>0</th>\n",
       "      <td>1</td>\n",
       "      <td>0</td>\n",
       "      <td>3</td>\n",
       "      <td>Braund, Mr. Owen Harris</td>\n",
       "      <td>22.0</td>\n",
       "      <td>1</td>\n",
       "      <td>0</td>\n",
       "      <td>A/5 21171</td>\n",
       "      <td>7.2500</td>\n",
       "      <td>NaN</td>\n",
       "      <td>0</td>\n",
       "      <td>0</td>\n",
       "      <td>1</td>\n",
       "    </tr>\n",
       "    <tr>\n",
       "      <th>1</th>\n",
       "      <td>2</td>\n",
       "      <td>1</td>\n",
       "      <td>1</td>\n",
       "      <td>Cumings, Mrs. John Bradley (Florence Briggs Th...</td>\n",
       "      <td>38.0</td>\n",
       "      <td>1</td>\n",
       "      <td>0</td>\n",
       "      <td>PC 17599</td>\n",
       "      <td>71.2833</td>\n",
       "      <td>C85</td>\n",
       "      <td>1</td>\n",
       "      <td>1</td>\n",
       "      <td>0</td>\n",
       "    </tr>\n",
       "    <tr>\n",
       "      <th>2</th>\n",
       "      <td>3</td>\n",
       "      <td>1</td>\n",
       "      <td>3</td>\n",
       "      <td>Heikkinen, Miss. Laina</td>\n",
       "      <td>26.0</td>\n",
       "      <td>0</td>\n",
       "      <td>0</td>\n",
       "      <td>STON/O2. 3101282</td>\n",
       "      <td>7.9250</td>\n",
       "      <td>NaN</td>\n",
       "      <td>1</td>\n",
       "      <td>0</td>\n",
       "      <td>1</td>\n",
       "    </tr>\n",
       "    <tr>\n",
       "      <th>3</th>\n",
       "      <td>4</td>\n",
       "      <td>1</td>\n",
       "      <td>1</td>\n",
       "      <td>Futrelle, Mrs. Jacques Heath (Lily May Peel)</td>\n",
       "      <td>35.0</td>\n",
       "      <td>1</td>\n",
       "      <td>0</td>\n",
       "      <td>113803</td>\n",
       "      <td>53.1000</td>\n",
       "      <td>C123</td>\n",
       "      <td>1</td>\n",
       "      <td>0</td>\n",
       "      <td>1</td>\n",
       "    </tr>\n",
       "    <tr>\n",
       "      <th>4</th>\n",
       "      <td>5</td>\n",
       "      <td>0</td>\n",
       "      <td>3</td>\n",
       "      <td>Allen, Mr. William Henry</td>\n",
       "      <td>35.0</td>\n",
       "      <td>0</td>\n",
       "      <td>0</td>\n",
       "      <td>373450</td>\n",
       "      <td>8.0500</td>\n",
       "      <td>NaN</td>\n",
       "      <td>0</td>\n",
       "      <td>0</td>\n",
       "      <td>1</td>\n",
       "    </tr>\n",
       "  </tbody>\n",
       "</table>\n",
       "</div>"
      ],
      "text/plain": [
       "   PassengerId  Survived  Pclass  \\\n",
       "0            1         0       3   \n",
       "1            2         1       1   \n",
       "2            3         1       3   \n",
       "3            4         1       1   \n",
       "4            5         0       3   \n",
       "\n",
       "                                                Name   Age  SibSp  Parch  \\\n",
       "0                            Braund, Mr. Owen Harris  22.0      1      0   \n",
       "1  Cumings, Mrs. John Bradley (Florence Briggs Th...  38.0      1      0   \n",
       "2                             Heikkinen, Miss. Laina  26.0      0      0   \n",
       "3       Futrelle, Mrs. Jacques Heath (Lily May Peel)  35.0      1      0   \n",
       "4                           Allen, Mr. William Henry  35.0      0      0   \n",
       "\n",
       "             Ticket     Fare Cabin  Sex  Embarked_C  Embarked_S  \n",
       "0         A/5 21171   7.2500   NaN    0           0           1  \n",
       "1          PC 17599  71.2833   C85    1           1           0  \n",
       "2  STON/O2. 3101282   7.9250   NaN    1           0           1  \n",
       "3            113803  53.1000  C123    1           0           1  \n",
       "4            373450   8.0500   NaN    0           0           1  "
      ]
     },
     "execution_count": 12,
     "metadata": {},
     "output_type": "execute_result"
    }
   ],
   "source": [
    "df_train1 = pd.concat((df_train1,dummy_embarked),axis=1)\n",
    "df_train1=df_train1.drop(['Embarked','Q'],axis=1)\n",
    "df_train1=df_train1.rename(columns={'C':'Embarked_C','S':'Embarked_S'})\n",
    "df_train1.head()"
   ]
  },
  {
   "cell_type": "code",
   "execution_count": 13,
   "id": "41343f1b",
   "metadata": {
    "execution": {
     "iopub.execute_input": "2023-03-12T13:13:17.595468Z",
     "iopub.status.busy": "2023-03-12T13:13:17.594805Z",
     "iopub.status.idle": "2023-03-12T13:13:17.602598Z",
     "shell.execute_reply": "2023-03-12T13:13:17.601123Z"
    },
    "papermill": {
     "duration": 0.01894,
     "end_time": "2023-03-12T13:13:17.605066",
     "exception": false,
     "start_time": "2023-03-12T13:13:17.586126",
     "status": "completed"
    },
    "tags": []
   },
   "outputs": [
    {
     "name": "stdout",
     "output_type": "stream",
     "text": [
      "   female  male\n",
      "0       0     1\n",
      "1       1     0\n",
      "2       0     1\n",
      "3       0     1\n",
      "4       1     0\n"
     ]
    }
   ],
   "source": [
    "#Now the test set \n",
    "dummy1 = pd.get_dummies(df_test['Sex'])\n",
    "print(dummy1.head())"
   ]
  },
  {
   "cell_type": "code",
   "execution_count": 14,
   "id": "adc00fa3",
   "metadata": {
    "execution": {
     "iopub.execute_input": "2023-03-12T13:13:17.621614Z",
     "iopub.status.busy": "2023-03-12T13:13:17.621229Z",
     "iopub.status.idle": "2023-03-12T13:13:17.640765Z",
     "shell.execute_reply": "2023-03-12T13:13:17.639739Z"
    },
    "papermill": {
     "duration": 0.030565,
     "end_time": "2023-03-12T13:13:17.643053",
     "exception": false,
     "start_time": "2023-03-12T13:13:17.612488",
     "status": "completed"
    },
    "tags": []
   },
   "outputs": [
    {
     "data": {
      "text/html": [
       "<div>\n",
       "<style scoped>\n",
       "    .dataframe tbody tr th:only-of-type {\n",
       "        vertical-align: middle;\n",
       "    }\n",
       "\n",
       "    .dataframe tbody tr th {\n",
       "        vertical-align: top;\n",
       "    }\n",
       "\n",
       "    .dataframe thead th {\n",
       "        text-align: right;\n",
       "    }\n",
       "</style>\n",
       "<table border=\"1\" class=\"dataframe\">\n",
       "  <thead>\n",
       "    <tr style=\"text-align: right;\">\n",
       "      <th></th>\n",
       "      <th>PassengerId</th>\n",
       "      <th>Pclass</th>\n",
       "      <th>Name</th>\n",
       "      <th>Age</th>\n",
       "      <th>SibSp</th>\n",
       "      <th>Parch</th>\n",
       "      <th>Ticket</th>\n",
       "      <th>Fare</th>\n",
       "      <th>Cabin</th>\n",
       "      <th>Embarked</th>\n",
       "      <th>Sex</th>\n",
       "    </tr>\n",
       "  </thead>\n",
       "  <tbody>\n",
       "    <tr>\n",
       "      <th>0</th>\n",
       "      <td>892</td>\n",
       "      <td>3</td>\n",
       "      <td>Kelly, Mr. James</td>\n",
       "      <td>34.5</td>\n",
       "      <td>0</td>\n",
       "      <td>0</td>\n",
       "      <td>330911</td>\n",
       "      <td>7.8292</td>\n",
       "      <td>NaN</td>\n",
       "      <td>Q</td>\n",
       "      <td>0</td>\n",
       "    </tr>\n",
       "    <tr>\n",
       "      <th>1</th>\n",
       "      <td>893</td>\n",
       "      <td>3</td>\n",
       "      <td>Wilkes, Mrs. James (Ellen Needs)</td>\n",
       "      <td>47.0</td>\n",
       "      <td>1</td>\n",
       "      <td>0</td>\n",
       "      <td>363272</td>\n",
       "      <td>7.0000</td>\n",
       "      <td>NaN</td>\n",
       "      <td>S</td>\n",
       "      <td>1</td>\n",
       "    </tr>\n",
       "    <tr>\n",
       "      <th>2</th>\n",
       "      <td>894</td>\n",
       "      <td>2</td>\n",
       "      <td>Myles, Mr. Thomas Francis</td>\n",
       "      <td>62.0</td>\n",
       "      <td>0</td>\n",
       "      <td>0</td>\n",
       "      <td>240276</td>\n",
       "      <td>9.6875</td>\n",
       "      <td>NaN</td>\n",
       "      <td>Q</td>\n",
       "      <td>0</td>\n",
       "    </tr>\n",
       "    <tr>\n",
       "      <th>3</th>\n",
       "      <td>895</td>\n",
       "      <td>3</td>\n",
       "      <td>Wirz, Mr. Albert</td>\n",
       "      <td>27.0</td>\n",
       "      <td>0</td>\n",
       "      <td>0</td>\n",
       "      <td>315154</td>\n",
       "      <td>8.6625</td>\n",
       "      <td>NaN</td>\n",
       "      <td>S</td>\n",
       "      <td>0</td>\n",
       "    </tr>\n",
       "    <tr>\n",
       "      <th>4</th>\n",
       "      <td>896</td>\n",
       "      <td>3</td>\n",
       "      <td>Hirvonen, Mrs. Alexander (Helga E Lindqvist)</td>\n",
       "      <td>22.0</td>\n",
       "      <td>1</td>\n",
       "      <td>1</td>\n",
       "      <td>3101298</td>\n",
       "      <td>12.2875</td>\n",
       "      <td>NaN</td>\n",
       "      <td>S</td>\n",
       "      <td>1</td>\n",
       "    </tr>\n",
       "  </tbody>\n",
       "</table>\n",
       "</div>"
      ],
      "text/plain": [
       "   PassengerId  Pclass                                          Name   Age  \\\n",
       "0          892       3                              Kelly, Mr. James  34.5   \n",
       "1          893       3              Wilkes, Mrs. James (Ellen Needs)  47.0   \n",
       "2          894       2                     Myles, Mr. Thomas Francis  62.0   \n",
       "3          895       3                              Wirz, Mr. Albert  27.0   \n",
       "4          896       3  Hirvonen, Mrs. Alexander (Helga E Lindqvist)  22.0   \n",
       "\n",
       "   SibSp  Parch   Ticket     Fare Cabin Embarked  Sex  \n",
       "0      0      0   330911   7.8292   NaN        Q    0  \n",
       "1      1      0   363272   7.0000   NaN        S    1  \n",
       "2      0      0   240276   9.6875   NaN        Q    0  \n",
       "3      0      0   315154   8.6625   NaN        S    0  \n",
       "4      1      1  3101298  12.2875   NaN        S    1  "
      ]
     },
     "execution_count": 14,
     "metadata": {},
     "output_type": "execute_result"
    }
   ],
   "source": [
    "df_test1 = pd.concat((df_test,dummy1),axis=1)\n",
    "df_test1=df_test1.drop(['Sex','male'],axis=1)\n",
    "df_test1=df_test1.rename(columns={'female':'Sex'})\n",
    "df_test1.head()"
   ]
  },
  {
   "cell_type": "code",
   "execution_count": 15,
   "id": "8ca050ed",
   "metadata": {
    "execution": {
     "iopub.execute_input": "2023-03-12T13:13:17.661985Z",
     "iopub.status.busy": "2023-03-12T13:13:17.661431Z",
     "iopub.status.idle": "2023-03-12T13:13:17.672456Z",
     "shell.execute_reply": "2023-03-12T13:13:17.670877Z"
    },
    "papermill": {
     "duration": 0.022519,
     "end_time": "2023-03-12T13:13:17.674916",
     "exception": false,
     "start_time": "2023-03-12T13:13:17.652397",
     "status": "completed"
    },
    "tags": []
   },
   "outputs": [
    {
     "name": "stdout",
     "output_type": "stream",
     "text": [
      "S    270\n",
      "C    102\n",
      "Q     46\n",
      "Name: Embarked, dtype: int64\n",
      "   C  Q  S\n",
      "0  0  1  0\n",
      "1  0  0  1\n",
      "2  0  1  0\n",
      "3  0  0  1\n",
      "4  0  0  1\n"
     ]
    }
   ],
   "source": [
    "print(df_test1['Embarked'].value_counts())\n",
    "dummy_embarked_test=pd.get_dummies(df_test1['Embarked'])\n",
    "print(dummy_embarked_test.head())"
   ]
  },
  {
   "cell_type": "code",
   "execution_count": 16,
   "id": "bda3628b",
   "metadata": {
    "execution": {
     "iopub.execute_input": "2023-03-12T13:13:17.693033Z",
     "iopub.status.busy": "2023-03-12T13:13:17.692323Z",
     "iopub.status.idle": "2023-03-12T13:13:17.712140Z",
     "shell.execute_reply": "2023-03-12T13:13:17.711014Z"
    },
    "papermill": {
     "duration": 0.031443,
     "end_time": "2023-03-12T13:13:17.714334",
     "exception": false,
     "start_time": "2023-03-12T13:13:17.682891",
     "status": "completed"
    },
    "tags": []
   },
   "outputs": [
    {
     "data": {
      "text/html": [
       "<div>\n",
       "<style scoped>\n",
       "    .dataframe tbody tr th:only-of-type {\n",
       "        vertical-align: middle;\n",
       "    }\n",
       "\n",
       "    .dataframe tbody tr th {\n",
       "        vertical-align: top;\n",
       "    }\n",
       "\n",
       "    .dataframe thead th {\n",
       "        text-align: right;\n",
       "    }\n",
       "</style>\n",
       "<table border=\"1\" class=\"dataframe\">\n",
       "  <thead>\n",
       "    <tr style=\"text-align: right;\">\n",
       "      <th></th>\n",
       "      <th>PassengerId</th>\n",
       "      <th>Pclass</th>\n",
       "      <th>Name</th>\n",
       "      <th>Age</th>\n",
       "      <th>SibSp</th>\n",
       "      <th>Parch</th>\n",
       "      <th>Ticket</th>\n",
       "      <th>Fare</th>\n",
       "      <th>Cabin</th>\n",
       "      <th>Sex</th>\n",
       "      <th>Embarked_C</th>\n",
       "      <th>Embarked_S</th>\n",
       "    </tr>\n",
       "  </thead>\n",
       "  <tbody>\n",
       "    <tr>\n",
       "      <th>0</th>\n",
       "      <td>892</td>\n",
       "      <td>3</td>\n",
       "      <td>Kelly, Mr. James</td>\n",
       "      <td>34.5</td>\n",
       "      <td>0</td>\n",
       "      <td>0</td>\n",
       "      <td>330911</td>\n",
       "      <td>7.8292</td>\n",
       "      <td>NaN</td>\n",
       "      <td>0</td>\n",
       "      <td>0</td>\n",
       "      <td>0</td>\n",
       "    </tr>\n",
       "    <tr>\n",
       "      <th>1</th>\n",
       "      <td>893</td>\n",
       "      <td>3</td>\n",
       "      <td>Wilkes, Mrs. James (Ellen Needs)</td>\n",
       "      <td>47.0</td>\n",
       "      <td>1</td>\n",
       "      <td>0</td>\n",
       "      <td>363272</td>\n",
       "      <td>7.0000</td>\n",
       "      <td>NaN</td>\n",
       "      <td>1</td>\n",
       "      <td>0</td>\n",
       "      <td>1</td>\n",
       "    </tr>\n",
       "    <tr>\n",
       "      <th>2</th>\n",
       "      <td>894</td>\n",
       "      <td>2</td>\n",
       "      <td>Myles, Mr. Thomas Francis</td>\n",
       "      <td>62.0</td>\n",
       "      <td>0</td>\n",
       "      <td>0</td>\n",
       "      <td>240276</td>\n",
       "      <td>9.6875</td>\n",
       "      <td>NaN</td>\n",
       "      <td>0</td>\n",
       "      <td>0</td>\n",
       "      <td>0</td>\n",
       "    </tr>\n",
       "    <tr>\n",
       "      <th>3</th>\n",
       "      <td>895</td>\n",
       "      <td>3</td>\n",
       "      <td>Wirz, Mr. Albert</td>\n",
       "      <td>27.0</td>\n",
       "      <td>0</td>\n",
       "      <td>0</td>\n",
       "      <td>315154</td>\n",
       "      <td>8.6625</td>\n",
       "      <td>NaN</td>\n",
       "      <td>0</td>\n",
       "      <td>0</td>\n",
       "      <td>1</td>\n",
       "    </tr>\n",
       "    <tr>\n",
       "      <th>4</th>\n",
       "      <td>896</td>\n",
       "      <td>3</td>\n",
       "      <td>Hirvonen, Mrs. Alexander (Helga E Lindqvist)</td>\n",
       "      <td>22.0</td>\n",
       "      <td>1</td>\n",
       "      <td>1</td>\n",
       "      <td>3101298</td>\n",
       "      <td>12.2875</td>\n",
       "      <td>NaN</td>\n",
       "      <td>1</td>\n",
       "      <td>0</td>\n",
       "      <td>1</td>\n",
       "    </tr>\n",
       "  </tbody>\n",
       "</table>\n",
       "</div>"
      ],
      "text/plain": [
       "   PassengerId  Pclass                                          Name   Age  \\\n",
       "0          892       3                              Kelly, Mr. James  34.5   \n",
       "1          893       3              Wilkes, Mrs. James (Ellen Needs)  47.0   \n",
       "2          894       2                     Myles, Mr. Thomas Francis  62.0   \n",
       "3          895       3                              Wirz, Mr. Albert  27.0   \n",
       "4          896       3  Hirvonen, Mrs. Alexander (Helga E Lindqvist)  22.0   \n",
       "\n",
       "   SibSp  Parch   Ticket     Fare Cabin  Sex  Embarked_C  Embarked_S  \n",
       "0      0      0   330911   7.8292   NaN    0           0           0  \n",
       "1      1      0   363272   7.0000   NaN    1           0           1  \n",
       "2      0      0   240276   9.6875   NaN    0           0           0  \n",
       "3      0      0   315154   8.6625   NaN    0           0           1  \n",
       "4      1      1  3101298  12.2875   NaN    1           0           1  "
      ]
     },
     "execution_count": 16,
     "metadata": {},
     "output_type": "execute_result"
    }
   ],
   "source": [
    "df_test1 = pd.concat((df_test1,dummy_embarked_test),axis=1)\n",
    "df_test1=df_test1.drop(['Embarked','Q'],axis=1)\n",
    "df_test1=df_test1.rename(columns={'C':'Embarked_C','S':'Embarked_S'})\n",
    "df_test1.head()"
   ]
  },
  {
   "cell_type": "code",
   "execution_count": 17,
   "id": "42b47f56",
   "metadata": {
    "execution": {
     "iopub.execute_input": "2023-03-12T13:13:17.732180Z",
     "iopub.status.busy": "2023-03-12T13:13:17.731773Z",
     "iopub.status.idle": "2023-03-12T13:13:17.741734Z",
     "shell.execute_reply": "2023-03-12T13:13:17.740432Z"
    },
    "papermill": {
     "duration": 0.021357,
     "end_time": "2023-03-12T13:13:17.743967",
     "exception": false,
     "start_time": "2023-03-12T13:13:17.722610",
     "status": "completed"
    },
    "tags": []
   },
   "outputs": [
    {
     "name": "stdout",
     "output_type": "stream",
     "text": [
      "[0 1 1 1 0]\n",
      "[[ 3.      0.     22.      1.      0.      7.25    0.      1.    ]\n",
      " [ 1.      1.     38.      1.      0.     71.2833  1.      0.    ]\n",
      " [ 3.      1.     26.      0.      0.      7.925   0.      1.    ]\n",
      " [ 1.      1.     35.      1.      0.     53.1     0.      1.    ]\n",
      " [ 3.      0.     35.      0.      0.      8.05    0.      1.    ]]\n"
     ]
    }
   ],
   "source": [
    "# print(df_train.columns)\n",
    "y=df_train1.iloc[:,1].values\n",
    "X=df_train1.loc[:,['Pclass', 'Sex', 'Age', 'SibSp',\n",
    "       'Parch', 'Fare', 'Embarked_C', 'Embarked_S']].values\n",
    "print(y[0:5])\n",
    "print(X[0:5])\n",
    "\n"
   ]
  },
  {
   "cell_type": "code",
   "execution_count": 18,
   "id": "6314311a",
   "metadata": {
    "execution": {
     "iopub.execute_input": "2023-03-12T13:13:17.762386Z",
     "iopub.status.busy": "2023-03-12T13:13:17.761484Z",
     "iopub.status.idle": "2023-03-12T13:13:18.744729Z",
     "shell.execute_reply": "2023-03-12T13:13:18.743464Z"
    },
    "papermill": {
     "duration": 0.995139,
     "end_time": "2023-03-12T13:13:18.747423",
     "exception": false,
     "start_time": "2023-03-12T13:13:17.752284",
     "status": "completed"
    },
    "tags": []
   },
   "outputs": [
    {
     "name": "stdout",
     "output_type": "stream",
     "text": [
      "668\n",
      "668\n"
     ]
    }
   ],
   "source": [
    "from sklearn.model_selection import train_test_split\n",
    "X_train, X_test, y_train, y_test = train_test_split(X, y, test_size = 0.25, random_state = 0)\n",
    "\n",
    "print(len(X_train))\n",
    "print(len(y_train))"
   ]
  },
  {
   "cell_type": "markdown",
   "id": "bf6a55b0",
   "metadata": {
    "papermill": {
     "duration": 0.008077,
     "end_time": "2023-03-12T13:13:18.764261",
     "exception": false,
     "start_time": "2023-03-12T13:13:18.756184",
     "status": "completed"
    },
    "tags": []
   },
   "source": [
    "# Logical Regression Classifier "
   ]
  },
  {
   "cell_type": "code",
   "execution_count": 19,
   "id": "17630ed9",
   "metadata": {
    "execution": {
     "iopub.execute_input": "2023-03-12T13:13:18.782483Z",
     "iopub.status.busy": "2023-03-12T13:13:18.782087Z",
     "iopub.status.idle": "2023-03-12T13:13:18.791636Z",
     "shell.execute_reply": "2023-03-12T13:13:18.789679Z"
    },
    "papermill": {
     "duration": 0.022076,
     "end_time": "2023-03-12T13:13:18.794420",
     "exception": false,
     "start_time": "2023-03-12T13:13:18.772344",
     "status": "completed"
    },
    "tags": []
   },
   "outputs": [
    {
     "name": "stdout",
     "output_type": "stream",
     "text": [
      "[[ 0.83012938 -0.72705166 -0.14821366 ... -0.48380773 -0.45841567\n",
      "   0.59809997]\n",
      " [ 0.83012938  1.37541808 -0.99739413 ... -0.48323058 -0.45841567\n",
      "   0.59809997]\n",
      " [ 0.83012938 -0.72705166  0.00618279 ... -0.32165051 -0.45841567\n",
      "   0.59809997]\n",
      " ...\n",
      " [ 0.83012938 -0.72705166  0.00618279 ... -0.48701956 -0.45841567\n",
      "  -1.67196129]\n",
      " [ 0.83012938  1.37541808  0.46937214 ... -0.29595582 -0.45841567\n",
      "   0.59809997]\n",
      " [-0.36497068 -0.72705166  2.32212954 ...  0.13097136 -0.45841567\n",
      "   0.59809997]]\n",
      "[[ 0.83012938 -0.72705166  0.00618279 ... -0.35409895  2.1814263\n",
      "  -1.67196129]\n",
      " [ 0.83012938 -0.72705166  0.00618279 ... -0.49064251 -0.45841567\n",
      "   0.59809997]\n",
      " [ 0.83012938 -0.72705166 -1.76937638 ... -0.06420947 -0.45841567\n",
      "  -1.67196129]\n",
      " ...\n",
      " [ 0.83012938 -0.72705166 -0.84299768 ... -0.48619536 -0.45841567\n",
      "   0.59809997]\n",
      " [-1.56007074  1.37541808 -0.68860123 ...  4.54601107  2.1814263\n",
      "  -1.67196129]\n",
      " [ 0.83012938  1.37541808 -2.00097105 ... -0.30979142 -0.45841567\n",
      "   0.59809997]]\n"
     ]
    }
   ],
   "source": [
    "from sklearn.preprocessing import StandardScaler\n",
    "sc = StandardScaler()\n",
    "X_train = sc.fit_transform(X_train)\n",
    "X_test = sc.transform(X_test)\n",
    "print(X_train)\n",
    "print(X_test)"
   ]
  },
  {
   "cell_type": "code",
   "execution_count": 20,
   "id": "69c96941",
   "metadata": {
    "execution": {
     "iopub.execute_input": "2023-03-12T13:13:18.813300Z",
     "iopub.status.busy": "2023-03-12T13:13:18.812242Z",
     "iopub.status.idle": "2023-03-12T13:13:18.889192Z",
     "shell.execute_reply": "2023-03-12T13:13:18.888008Z"
    },
    "papermill": {
     "duration": 0.088385,
     "end_time": "2023-03-12T13:13:18.891426",
     "exception": false,
     "start_time": "2023-03-12T13:13:18.803041",
     "status": "completed"
    },
    "tags": []
   },
   "outputs": [
    {
     "data": {
      "text/plain": [
       "LogisticRegression(random_state=0)"
      ]
     },
     "execution_count": 20,
     "metadata": {},
     "output_type": "execute_result"
    }
   ],
   "source": [
    "from sklearn.linear_model import LogisticRegression\n",
    "LR_classifier = LogisticRegression(random_state = 0)\n",
    "LR_classifier.fit(X_train, y_train)"
   ]
  },
  {
   "cell_type": "code",
   "execution_count": 21,
   "id": "bc59920d",
   "metadata": {
    "execution": {
     "iopub.execute_input": "2023-03-12T13:13:18.909993Z",
     "iopub.status.busy": "2023-03-12T13:13:18.909075Z",
     "iopub.status.idle": "2023-03-12T13:13:18.919678Z",
     "shell.execute_reply": "2023-03-12T13:13:18.918338Z"
    },
    "papermill": {
     "duration": 0.022036,
     "end_time": "2023-03-12T13:13:18.921899",
     "exception": false,
     "start_time": "2023-03-12T13:13:18.899863",
     "status": "completed"
    },
    "tags": []
   },
   "outputs": [
    {
     "name": "stdout",
     "output_type": "stream",
     "text": [
      "[[116  23]\n",
      " [ 23  61]]\n"
     ]
    },
    {
     "data": {
      "text/plain": [
       "0.7937219730941704"
      ]
     },
     "execution_count": 21,
     "metadata": {},
     "output_type": "execute_result"
    }
   ],
   "source": [
    "from sklearn.metrics import confusion_matrix, accuracy_score\n",
    "\n",
    "y_pred = LR_classifier.predict(X_test)\n",
    "cm = confusion_matrix(y_test, y_pred)\n",
    "print(cm)\n",
    "accuracy_score(y_test, y_pred)"
   ]
  },
  {
   "cell_type": "markdown",
   "id": "67b98985",
   "metadata": {
    "papermill": {
     "duration": 0.008152,
     "end_time": "2023-03-12T13:13:18.938173",
     "exception": false,
     "start_time": "2023-03-12T13:13:18.930021",
     "status": "completed"
    },
    "tags": []
   },
   "source": [
    "**Visualization of Train and Test Set**"
   ]
  },
  {
   "cell_type": "code",
   "execution_count": 22,
   "id": "c1ddf312",
   "metadata": {
    "execution": {
     "iopub.execute_input": "2023-03-12T13:13:18.956978Z",
     "iopub.status.busy": "2023-03-12T13:13:18.956364Z",
     "iopub.status.idle": "2023-03-12T13:13:19.403377Z",
     "shell.execute_reply": "2023-03-12T13:13:19.402562Z"
    },
    "papermill": {
     "duration": 0.458425,
     "end_time": "2023-03-12T13:13:19.405478",
     "exception": false,
     "start_time": "2023-03-12T13:13:18.947053",
     "status": "completed"
    },
    "tags": []
   },
   "outputs": [
    {
     "data": {
      "image/png": "[encoded data removed]",
      "text/plain": [
       "<Figure size 432x288 with 2 Axes>"
      ]
     },
     "metadata": {
      "needs_background": "light"
     },
     "output_type": "display_data"
    },
    {
     "data": {
      "image/png": "[encoded data removed]",
      "text/plain": [
       "<Figure size 432x288 with 1 Axes>"
      ]
     },
     "metadata": {
      "needs_background": "light"
     },
     "output_type": "display_data"
    }
   ],
   "source": [
    "from sklearn.metrics import confusion_matrix, roc_curve, auc\n",
    "# Compute the ROC curve and AUC\n",
    "fpr, tpr, thresholds = roc_curve(y_test, LR_classifier.predict_proba(X_test)[:,1])\n",
    "roc_auc = auc(fpr, tpr)\n",
    "\n",
    "# Plot the confusion matrix\n",
    "plt.imshow(cm, cmap=plt.cm.Blues)\n",
    "plt.colorbar()\n",
    "plt.xticks([0, 1])\n",
    "plt.yticks([0, 1])\n",
    "plt.xlabel(\"Predicted label\")\n",
    "plt.ylabel(\"True label\")\n",
    "for i in range(2):\n",
    "    for j in range(2):\n",
    "        plt.text(j, i, cm[i, j], ha=\"center\", va=\"center\", color=\"white\")\n",
    "plt.show()\n",
    "\n",
    "# Plot the ROC curve\n",
    "plt.plot(fpr, tpr, label=\"ROC curve (area = {:.2f})\".format(roc_auc))\n",
    "plt.plot([0, 1], [0, 1], linestyle=\"--\")\n",
    "plt.xlim([0, 1])\n",
    "plt.ylim([0, 1])\n",
    "plt.xlabel(\"False Positive Rate\")\n",
    "plt.ylabel(\"True Positive Rate\")\n",
    "plt.title(\"Receiver operating characteristic\")\n",
    "plt.legend(loc=\"lower right\")\n",
    "plt.show()"
   ]
  },
  {
   "cell_type": "markdown",
   "id": "0a1cbd74",
   "metadata": {
    "papermill": {
     "duration": 0.008579,
     "end_time": "2023-03-12T13:13:19.423256",
     "exception": false,
     "start_time": "2023-03-12T13:13:19.414677",
     "status": "completed"
    },
    "tags": []
   },
   "source": [
    "# Naive Bayes "
   ]
  },
  {
   "cell_type": "code",
   "execution_count": null,
   "id": "189ef73a",
   "metadata": {
    "papermill": {
     "duration": 0.0083,
     "end_time": "2023-03-12T13:13:19.440267",
     "exception": false,
     "start_time": "2023-03-12T13:13:19.431967",
     "status": "completed"
    },
    "tags": []
   },
   "outputs": [],
   "source": []
  }
 ],
 "metadata": {
  "kernelspec": {
   "display_name": "Python 3",
   "language": "python",
   "name": "python3"
  },
  "language_info": {
   "codemirror_mode": {
    "name": "ipython",
    "version": 3
   },
   "file_extension": ".py",
   "mimetype": "text/x-python",
   "name": "python",
   "nbconvert_exporter": "python",
   "pygments_lexer": "ipython3",
   "version": "3.7.12"
  },
  "papermill": {
   "default_parameters": {},
   "duration": 11.860038,
   "end_time": "2023-03-12T13:13:20.169637",
   "environment_variables": {},
   "exception": null,
   "input_path": "__notebook__.ipynb",
   "output_path": "__notebook__.ipynb",
   "parameters": {},
   "start_time": "2023-03-12T13:13:08.309599",
   "version": "2.3.4"
  }
 },
 "nbformat": 4,
 "nbformat_minor": 5
}
